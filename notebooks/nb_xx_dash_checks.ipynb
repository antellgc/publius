{
 "cells": [
  {
   "cell_type": "code",
   "execution_count": 1,
   "metadata": {},
   "outputs": [],
   "source": [
    "import pandas as pd\n",
    "import random"
   ]
  },
  {
   "cell_type": "code",
   "execution_count": 59,
   "metadata": {},
   "outputs": [],
   "source": [
    "# only the testing docs can be viewed in app\n",
    "df_test_docs = pd.read_csv(\"../processed_data/test_docs.csv\")\n",
    "df_fed_para = pd.read_csv(\"../processed_data/fed_paragraphs.csv\")"
   ]
  },
  {
   "cell_type": "code",
   "execution_count": 69,
   "metadata": {},
   "outputs": [
    {
     "data": {
      "text/html": [
       "<div>\n",
       "<style scoped>\n",
       "    .dataframe tbody tr th:only-of-type {\n",
       "        vertical-align: middle;\n",
       "    }\n",
       "\n",
       "    .dataframe tbody tr th {\n",
       "        vertical-align: top;\n",
       "    }\n",
       "\n",
       "    .dataframe thead th {\n",
       "        text-align: right;\n",
       "    }\n",
       "</style>\n",
       "<table border=\"1\" class=\"dataframe\">\n",
       "  <thead>\n",
       "    <tr style=\"text-align: right;\">\n",
       "      <th></th>\n",
       "      <th>No.</th>\n",
       "      <th>Title</th>\n",
       "      <th>Author</th>\n",
       "      <th>Publication</th>\n",
       "      <th>Date</th>\n",
       "      <th>Text</th>\n",
       "      <th>Length</th>\n",
       "      <th>Indicator Name</th>\n",
       "    </tr>\n",
       "  </thead>\n",
       "  <tbody>\n",
       "    <tr>\n",
       "      <th>0</th>\n",
       "      <td>52</td>\n",
       "      <td>The House of Representatives</td>\n",
       "      <td>Madison</td>\n",
       "      <td>From the New York Packet</td>\n",
       "      <td>Friday, February 8, 1788</td>\n",
       "      <td>FROM the more general inquiries pursued in the...</td>\n",
       "      <td>10996</td>\n",
       "      <td>No. 52 - The House of Representatives</td>\n",
       "    </tr>\n",
       "    <tr>\n",
       "      <th>1</th>\n",
       "      <td>53</td>\n",
       "      <td>The Same Subject Continued: The House of Repre...</td>\n",
       "      <td>Madison</td>\n",
       "      <td>From the New York Packet</td>\n",
       "      <td>Tuesday, February 12, 1788</td>\n",
       "      <td>I SHALL here, perhaps, be reminded of a curren...</td>\n",
       "      <td>12975</td>\n",
       "      <td>No. 53 - The Same Subject Continued: The House...</td>\n",
       "    </tr>\n",
       "    <tr>\n",
       "      <th>2</th>\n",
       "      <td>54</td>\n",
       "      <td>The Apportionment of Members Among the States</td>\n",
       "      <td>Madison</td>\n",
       "      <td>From the New York Packet</td>\n",
       "      <td>Tuesday, February 12, 1788</td>\n",
       "      <td>THE next view which I shall take of the House ...</td>\n",
       "      <td>11756</td>\n",
       "      <td>No. 54 - The Apportionment of Members Among th...</td>\n",
       "    </tr>\n",
       "    <tr>\n",
       "      <th>3</th>\n",
       "      <td>55</td>\n",
       "      <td>The Total Number of the House of Representatives</td>\n",
       "      <td>Madison</td>\n",
       "      <td>From the New York Packet</td>\n",
       "      <td>Friday, February 15, 1788</td>\n",
       "      <td>THE number of which the House of Representativ...</td>\n",
       "      <td>11997</td>\n",
       "      <td>No. 55 - The Total Number of the House of Repr...</td>\n",
       "    </tr>\n",
       "    <tr>\n",
       "      <th>4</th>\n",
       "      <td>56</td>\n",
       "      <td>The Same Subject Continued: The Total Number o...</td>\n",
       "      <td>Madison</td>\n",
       "      <td>From the New York Packet</td>\n",
       "      <td>Tuesday, February 19, 1788</td>\n",
       "      <td>THE SECOND charge against the House of Represe...</td>\n",
       "      <td>9424</td>\n",
       "      <td>No. 56 - The Same Subject Continued: The Total...</td>\n",
       "    </tr>\n",
       "  </tbody>\n",
       "</table>\n",
       "</div>"
      ],
      "text/plain": [
       "   No.                                              Title   Author  \\\n",
       "0   52                       The House of Representatives  Madison   \n",
       "1   53  The Same Subject Continued: The House of Repre...  Madison   \n",
       "2   54      The Apportionment of Members Among the States  Madison   \n",
       "3   55   The Total Number of the House of Representatives  Madison   \n",
       "4   56  The Same Subject Continued: The Total Number o...  Madison   \n",
       "\n",
       "                Publication                        Date  \\\n",
       "0  From the New York Packet    Friday, February 8, 1788   \n",
       "1  From the New York Packet  Tuesday, February 12, 1788   \n",
       "2  From the New York Packet  Tuesday, February 12, 1788   \n",
       "3  From the New York Packet   Friday, February 15, 1788   \n",
       "4  From the New York Packet  Tuesday, February 19, 1788   \n",
       "\n",
       "                                                Text  Length  \\\n",
       "0  FROM the more general inquiries pursued in the...   10996   \n",
       "1  I SHALL here, perhaps, be reminded of a curren...   12975   \n",
       "2  THE next view which I shall take of the House ...   11756   \n",
       "3  THE number of which the House of Representativ...   11997   \n",
       "4  THE SECOND charge against the House of Represe...    9424   \n",
       "\n",
       "                                      Indicator Name  \n",
       "0              No. 52 - The House of Representatives  \n",
       "1  No. 53 - The Same Subject Continued: The House...  \n",
       "2  No. 54 - The Apportionment of Members Among th...  \n",
       "3  No. 55 - The Total Number of the House of Repr...  \n",
       "4  No. 56 - The Same Subject Continued: The Total...  "
      ]
     },
     "execution_count": 69,
     "metadata": {},
     "output_type": "execute_result"
    }
   ],
   "source": [
    "df_test_docs['Indicator Name'] = \"No. \" + df_test_docs['No.'].map(str) + \" - \" + df_test_docs['Title']\n",
    "df_test_docs.head()"
   ]
  },
  {
   "cell_type": "code",
   "execution_count": 62,
   "metadata": {},
   "outputs": [],
   "source": [
    "available_indicators = df_test_docs['Title'].unique()"
   ]
  },
  {
   "cell_type": "code",
   "execution_count": 58,
   "metadata": {},
   "outputs": [],
   "source": [
    "no = 71\n",
    "title_name = list(df_test_docs[df_test_docs['No.'] == no]['Title'])[0]\n",
    "out_text = \"No. \" + str(no) + ' -- ' + str(title_name)\n",
    "\n",
    "# select paragaphs\n",
    "paragraph_selection = df_fed_para[df_fed_para['No.'] == no]\n",
    "p_list = list(paragraph_selection['ParaText'])\n",
    "t = '\\n'.join(p_list)"
   ]
  },
  {
   "cell_type": "code",
   "execution_count": 57,
   "metadata": {},
   "outputs": [
    {
     "name": "stdout",
     "output_type": "stream",
     "text": [
      "No. 52 -- The House of Representatives\n"
     ]
    }
   ],
   "source": [
    "# random selection\n",
    "option_list = list(df_test_docs['No.'])\n",
    "no = random.choice(option_list)\n",
    "\n",
    "# output text\n",
    "title_name = list(df_test_docs[df_test_docs['No.'] == no]['Title'])[0]\n",
    "out_text = \"No. \" + str(no) + ' -- ' + str(title_name)\n",
    "print(out_text)\n",
    "\n",
    "# select paragaphs\n",
    "paragraph_selection = df_fed_para[df_fed_para['No.'] == no]\n",
    "pl = list(paragraph_selection['ParaText'])\n",
    "#print('> '.join(pl))"
   ]
  },
  {
   "cell_type": "code",
   "execution_count": 94,
   "metadata": {},
   "outputs": [
    {
     "data": {
      "text/html": [
       "<div>\n",
       "<style scoped>\n",
       "    .dataframe tbody tr th:only-of-type {\n",
       "        vertical-align: middle;\n",
       "    }\n",
       "\n",
       "    .dataframe tbody tr th {\n",
       "        vertical-align: top;\n",
       "    }\n",
       "\n",
       "    .dataframe thead th {\n",
       "        text-align: right;\n",
       "    }\n",
       "</style>\n",
       "<table border=\"1\" class=\"dataframe\">\n",
       "  <thead>\n",
       "    <tr style=\"text-align: right;\">\n",
       "      <th></th>\n",
       "      <th>No.</th>\n",
       "      <th>Title</th>\n",
       "      <th>Author</th>\n",
       "      <th>ParaText</th>\n",
       "    </tr>\n",
       "  </thead>\n",
       "  <tbody>\n",
       "    <tr>\n",
       "      <th>0</th>\n",
       "      <td>1</td>\n",
       "      <td>General Introduction</td>\n",
       "      <td>Hamilton</td>\n",
       "      <td>To the People of the State of New York:</td>\n",
       "    </tr>\n",
       "    <tr>\n",
       "      <th>1</th>\n",
       "      <td>1</td>\n",
       "      <td>General Introduction</td>\n",
       "      <td>Hamilton</td>\n",
       "      <td>AFTER an unequivocal experience of the ineffic...</td>\n",
       "    </tr>\n",
       "    <tr>\n",
       "      <th>2</th>\n",
       "      <td>1</td>\n",
       "      <td>General Introduction</td>\n",
       "      <td>Hamilton</td>\n",
       "      <td>This idea will add the inducements of philanth...</td>\n",
       "    </tr>\n",
       "    <tr>\n",
       "      <th>3</th>\n",
       "      <td>1</td>\n",
       "      <td>General Introduction</td>\n",
       "      <td>Hamilton</td>\n",
       "      <td>Among the most formidable of the obstacles whi...</td>\n",
       "    </tr>\n",
       "    <tr>\n",
       "      <th>4</th>\n",
       "      <td>1</td>\n",
       "      <td>General Introduction</td>\n",
       "      <td>Hamilton</td>\n",
       "      <td>It is not, however, my design to dwell upon ob...</td>\n",
       "    </tr>\n",
       "  </tbody>\n",
       "</table>\n",
       "</div>"
      ],
      "text/plain": [
       "   No.                 Title    Author  \\\n",
       "0    1  General Introduction  Hamilton   \n",
       "1    1  General Introduction  Hamilton   \n",
       "2    1  General Introduction  Hamilton   \n",
       "3    1  General Introduction  Hamilton   \n",
       "4    1  General Introduction  Hamilton   \n",
       "\n",
       "                                            ParaText  \n",
       "0            To the People of the State of New York:  \n",
       "1  AFTER an unequivocal experience of the ineffic...  \n",
       "2  This idea will add the inducements of philanth...  \n",
       "3  Among the most formidable of the obstacles whi...  \n",
       "4  It is not, however, my design to dwell upon ob...  "
      ]
     },
     "execution_count": 94,
     "metadata": {},
     "output_type": "execute_result"
    }
   ],
   "source": [
    "df_fed_para.head()"
   ]
  },
  {
   "cell_type": "code",
   "execution_count": 100,
   "metadata": {},
   "outputs": [
    {
     "data": {
      "text/plain": [
       "'madison'"
      ]
     },
     "execution_count": 100,
     "metadata": {},
     "output_type": "execute_result"
    }
   ],
   "source": [
    "df_test_docs['Author'][0].lower()"
   ]
  },
  {
   "cell_type": "code",
   "execution_count": 98,
   "metadata": {},
   "outputs": [
    {
     "data": {
      "text/plain": [
       "['To the People of the State of New York:',\n",
       " 'FROM the more general inquiries pursued in the four last papers, I pass on to a more particular examination of the several parts of the government. I shall begin with the House of Representatives. The first view to be taken of this part of the government relates to the qualifications of the electors and the elected. Those of the former are to be the same with those of the electors of the most numerous branch of the State legislatures.',\n",
       " 'The definition of the right of suffrage is very justly regarded as a fundamental article of republican government. It was incumbent on the convention, therefore, to define and establish this right in the Constitution. To have left it open for the occasional regulation of the Congress, would have been improper for the reason just mentioned. To have submitted it to the legislative discretion of the States, would have been improper for the same reason; and for the additional reason that it would have rendered too dependent on the State governments that branch of the federal government which ought to be dependent on the people alone. To have reduced the different qualifications in the different States to one uniform rule, would probably have been as dissatisfactory to some of the States as it would have been difficult to the convention. The provision made by the convention appears, therefore, to be the best that lay within their option.',\n",
       " 'It must be satisfactory to every State, because it is conformable to the standard already established, or which may be established, by the State itself. It will be safe to the United States, because, being fixed by the State constitutions, it is not alterable by the State governments, and it cannot be feared that the people of the States will alter this part of their constitutions in such a manner as to abridge the rights secured to them by the federal Constitution. The qualifications of the elected, being less carefully and properly defined by the State constitutions, and being at the same time more susceptible of uniformity, have been very properly considered and regulated by the convention. A representative of the United States must be of the age of twenty-five years; must have been seven years a citizen of the United States; must, at the time of his election, be an inhabitant of the State he is to represent; and, during the time of his service, must be in no office under the United States. Under these reasonable limitations, the door of this part of the federal government is open to merit of every description, whether native or adoptive, whether young or old, and without regard to poverty or wealth, or to any particular profession of religious faith. The term for which the representatives are to be elected falls under a second view which may be taken of this branch. In order to decide on the propriety of this article, two questions must be considered: first, whether biennial elections will, in this case, be safe; secondly, whether they be necessary or useful. First. As it is essential to liberty that the government in general should have a common interest with the people, so it is particularly essential that the branch of it under consideration should have an immediate dependence on, and an intimate sympathy with, the people. Frequent elections are unquestionably the only policy by which this dependence and sympathy can be effectually secured. But what particular degree of frequency may be absolutely necessary for the purpose, does not appear to be susceptible of any precise calculation, and must depend on a variety of circumstances with which it may be connected. Let us consult experience, the guide that ought always to be followed whenever it can be found. The scheme of representation, as a substitute for a meeting of the citizens in person, being at most but very imperfectly known to ancient polity, it is in more modern times only that we are to expect instructive examples. And even here, in order to avoid a research too vague and diffusive, it will be proper to confine ourselves to the few examples which are best known, and which bear the greatest analogy to our particular case. The first to which this character ought to be applied, is the House of Commons in Great Britain. The history of this branch of the English Constitution, anterior to the date of Magna Charta, is too obscure to yield instruction. The very existence of it has been made a question among political antiquaries. The earliest records of subsequent date prove that parliaments were to SIT only every year; not that they were to be ELECTED every year. And even these annual sessions were left so much at the discretion of the monarch, that, under various pretexts, very long and dangerous intermissions were often contrived by royal ambition. To remedy this grievance, it was provided by a statute in the reign of Charles II. , that the intermissions should not be protracted beyond a period of three years. On the accession of William III. , when a revolution took place in the government, the subject was still more seriously resumed, and it was declared to be among the fundamental rights of the people that parliaments ought to be held FREQUENTLY. By another statute, which passed a few years later in the same reign, the term \"frequently,\" which had alluded to the triennial period settled in the time of Charles II. , is reduced to a precise meaning, it being expressly enacted that a new parliament shall be called within three years after the termination of the former. The last change, from three to seven years, is well known to have been introduced pretty early in the present century, under on alarm for the Hanoverian succession. From these facts it appears that the greatest frequency of elections which has been deemed necessary in that kingdom, for binding the representatives to their constituents, does not exceed a triennial return of them. And if we may argue from the degree of liberty retained even under septennial elections, and all the other vicious ingredients in the parliamentary constitution, we cannot doubt that a reduction of the period from seven to three years, with the other necessary reforms, would so far extend the influence of the people over their representatives as to satisfy us that biennial elections, under the federal system, cannot possibly be dangerous to the requisite dependence of the House of Representatives on their constituents. Elections in Ireland, till of late, were regulated entirely by the discretion of the crown, and were seldom repeated, except on the accession of a new prince, or some other contingent event. The parliament which commenced with George II. was continued throughout his whole reign, a period of about thirty-five years. The only dependence of the representatives on the people consisted in the right of the latter to supply occasional vacancies by the election of new members, and in the chance of some event which might produce a general new election.',\n",
       " 'The ability also of the Irish parliament to maintain the rights of their constituents, so far as the disposition might exist, was extremely shackled by the control of the crown over the subjects of their deliberation. Of late these shackles, if I mistake not, have been broken; and octennial parliaments have besides been established. What effect may be produced by this partial reform, must be left to further experience. The example of Ireland, from this view of it, can throw but little light on the subject. As far as we can draw any conclusion from it, it must be that if the people of that country have been able under all these disadvantages to retain any liberty whatever, the advantage of biennial elections would secure to them every degree of liberty, which might depend on a due connection between their representatives and themselves. Let us bring our inquiries nearer home. The example of these States, when British colonies, claims particular attention, at the same time that it is so well known as to require little to be said on it. The principle of representation, in one branch of the legislature at least, was established in all of them. But the periods of election were different. They varied from one to seven years. Have we any reason to infer, from the spirit and conduct of the representatives of the people, prior to the Revolution, that biennial elections would have been dangerous to the public liberties? The spirit which everywhere displayed itself at the commencement of the struggle, and which vanquished the obstacles to independence, is the best of proofs that a sufficient portion of liberty had been everywhere enjoyed to inspire both a sense of its worth and a zeal for its proper enlargement This remark holds good, as well with regard to the then colonies whose elections were least frequent, as to those whose elections were most frequent Virginia was the colony which stood first in resisting the parliamentary usurpations of Great Britain; it was the first also in espousing, by public act, the resolution of independence.',\n",
       " 'In Virginia, nevertheless, if I have not been misinformed, elections under the former government were septennial. This particular example is brought into view, not as a proof of any peculiar merit, for the priority in those instances was probably accidental; and still less of any advantage in SEPTENNIAL elections, for when compared with a greater frequency they are inadmissible; but merely as a proof, and I conceive it to be a very substantial proof, that the liberties of the people can be in no danger from BIENNIAL elections. The conclusion resulting from these examples will be not a little strengthened by recollecting three circumstances. The first is, that the federal legislature will possess a part only of that supreme legislative authority which is vested completely in the British Parliament; and which, with a few exceptions, was exercised by the colonial assemblies and the Irish legislature. It is a received and well-founded maxim, that where no other circumstances affect the case, the greater the power is, the shorter ought to be its duration; and, conversely, the smaller the power, the more safely may its duration be protracted. In the second place, it has, on another occasion, been shown that the federal legislature will not only be restrained by its dependence on its people, as other legislative bodies are, but that it will be, moreover, watched and controlled by the several collateral legislatures, which other legislative bodies are not. And in the third place, no comparison can be made between the means that will be possessed by the more permanent branches of the federal government for seducing, if they should be disposed to seduce, the House of Representatives from their duty to the people, and the means of influence over the popular branch possessed by the other branches of the government above cited. With less power, therefore, to abuse, the federal representatives can be less tempted on one side, and will be doubly watched on the other.']"
      ]
     },
     "execution_count": 98,
     "metadata": {},
     "output_type": "execute_result"
    }
   ],
   "source": [
    "value = \"No. 52 - The House of Representatives\"\n",
    "\n",
    "def testfunc(value):\n",
    "    if value in list(df_test_docs['Indicator Name']):\n",
    "        mask1 = df_test_docs['Indicator Name'] == value\n",
    "        title = list(df_test_docs[mask1]['Title'])[0]\n",
    "        mask2 = df_fed_para['Title'] == title\n",
    "        p_list = list(df_fed_para[mask2]['ParaText'])\n",
    "        return html.Div([html.P(paragraph) for paragraph in p_list])\n",
    "        #return [paragraph for paragraph in p_list]\n",
    "    else:\n",
    "        return None\n",
    "\n",
    "testfunc(value)"
   ]
  }
 ],
 "metadata": {
  "kernelspec": {
   "display_name": "Python 3",
   "language": "python",
   "name": "python3"
  },
  "language_info": {
   "codemirror_mode": {
    "name": "ipython",
    "version": 3
   },
   "file_extension": ".py",
   "mimetype": "text/x-python",
   "name": "python",
   "nbconvert_exporter": "python",
   "pygments_lexer": "ipython3",
   "version": "3.6.8"
  }
 },
 "nbformat": 4,
 "nbformat_minor": 2
}
