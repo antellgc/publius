{
 "cells": [
  {
   "cell_type": "code",
   "execution_count": 1,
   "metadata": {},
   "outputs": [],
   "source": [
    "import pandas as pd\n",
    "import random"
   ]
  },
  {
   "cell_type": "code",
   "execution_count": 59,
   "metadata": {},
   "outputs": [],
   "source": [
    "# only the testing docs can be viewed in app\n",
    "df_test_docs = pd.read_csv(\"../processed_data/test_docs.csv\")\n",
    "df_fed_para = pd.read_csv(\"../processed_data/fed_paragraphs.csv\")"
   ]
  },
  {
   "cell_type": "code",
   "execution_count": 69,
   "metadata": {},
   "outputs": [
    {
     "data": {
      "text/html": [
       "<div>\n",
       "<style scoped>\n",
       "    .dataframe tbody tr th:only-of-type {\n",
       "        vertical-align: middle;\n",
       "    }\n",
       "\n",
       "    .dataframe tbody tr th {\n",
       "        vertical-align: top;\n",
       "    }\n",
       "\n",
       "    .dataframe thead th {\n",
       "        text-align: right;\n",
       "    }\n",
       "</style>\n",
       "<table border=\"1\" class=\"dataframe\">\n",
       "  <thead>\n",
       "    <tr style=\"text-align: right;\">\n",
       "      <th></th>\n",
       "      <th>No.</th>\n",
       "      <th>Title</th>\n",
       "      <th>Author</th>\n",
       "      <th>Publication</th>\n",
       "      <th>Date</th>\n",
       "      <th>Text</th>\n",
       "      <th>Length</th>\n",
       "      <th>Indicator Name</th>\n",
       "    </tr>\n",
       "  </thead>\n",
       "  <tbody>\n",
       "    <tr>\n",
       "      <th>0</th>\n",
       "      <td>52</td>\n",
       "      <td>The House of Representatives</td>\n",
       "      <td>Madison</td>\n",
       "      <td>From the New York Packet</td>\n",
       "      <td>Friday, February 8, 1788</td>\n",
       "      <td>FROM the more general inquiries pursued in the...</td>\n",
       "      <td>10996</td>\n",
       "      <td>No. 52 - The House of Representatives</td>\n",
       "    </tr>\n",
       "    <tr>\n",
       "      <th>1</th>\n",
       "      <td>53</td>\n",
       "      <td>The Same Subject Continued: The House of Repre...</td>\n",
       "      <td>Madison</td>\n",
       "      <td>From the New York Packet</td>\n",
       "      <td>Tuesday, February 12, 1788</td>\n",
       "      <td>I SHALL here, perhaps, be reminded of a curren...</td>\n",
       "      <td>12975</td>\n",
       "      <td>No. 53 - The Same Subject Continued: The House...</td>\n",
       "    </tr>\n",
       "    <tr>\n",
       "      <th>2</th>\n",
       "      <td>54</td>\n",
       "      <td>The Apportionment of Members Among the States</td>\n",
       "      <td>Madison</td>\n",
       "      <td>From the New York Packet</td>\n",
       "      <td>Tuesday, February 12, 1788</td>\n",
       "      <td>THE next view which I shall take of the House ...</td>\n",
       "      <td>11756</td>\n",
       "      <td>No. 54 - The Apportionment of Members Among th...</td>\n",
       "    </tr>\n",
       "    <tr>\n",
       "      <th>3</th>\n",
       "      <td>55</td>\n",
       "      <td>The Total Number of the House of Representatives</td>\n",
       "      <td>Madison</td>\n",
       "      <td>From the New York Packet</td>\n",
       "      <td>Friday, February 15, 1788</td>\n",
       "      <td>THE number of which the House of Representativ...</td>\n",
       "      <td>11997</td>\n",
       "      <td>No. 55 - The Total Number of the House of Repr...</td>\n",
       "    </tr>\n",
       "    <tr>\n",
       "      <th>4</th>\n",
       "      <td>56</td>\n",
       "      <td>The Same Subject Continued: The Total Number o...</td>\n",
       "      <td>Madison</td>\n",
       "      <td>From the New York Packet</td>\n",
       "      <td>Tuesday, February 19, 1788</td>\n",
       "      <td>THE SECOND charge against the House of Represe...</td>\n",
       "      <td>9424</td>\n",
       "      <td>No. 56 - The Same Subject Continued: The Total...</td>\n",
       "    </tr>\n",
       "  </tbody>\n",
       "</table>\n",
       "</div>"
      ],
      "text/plain": [
       "   No.                                              Title   Author  \\\n",
       "0   52                       The House of Representatives  Madison   \n",
       "1   53  The Same Subject Continued: The House of Repre...  Madison   \n",
       "2   54      The Apportionment of Members Among the States  Madison   \n",
       "3   55   The Total Number of the House of Representatives  Madison   \n",
       "4   56  The Same Subject Continued: The Total Number o...  Madison   \n",
       "\n",
       "                Publication                        Date  \\\n",
       "0  From the New York Packet    Friday, February 8, 1788   \n",
       "1  From the New York Packet  Tuesday, February 12, 1788   \n",
       "2  From the New York Packet  Tuesday, February 12, 1788   \n",
       "3  From the New York Packet   Friday, February 15, 1788   \n",
       "4  From the New York Packet  Tuesday, February 19, 1788   \n",
       "\n",
       "                                                Text  Length  \\\n",
       "0  FROM the more general inquiries pursued in the...   10996   \n",
       "1  I SHALL here, perhaps, be reminded of a curren...   12975   \n",
       "2  THE next view which I shall take of the House ...   11756   \n",
       "3  THE number of which the House of Representativ...   11997   \n",
       "4  THE SECOND charge against the House of Represe...    9424   \n",
       "\n",
       "                                      Indicator Name  \n",
       "0              No. 52 - The House of Representatives  \n",
       "1  No. 53 - The Same Subject Continued: The House...  \n",
       "2  No. 54 - The Apportionment of Members Among th...  \n",
       "3  No. 55 - The Total Number of the House of Repr...  \n",
       "4  No. 56 - The Same Subject Continued: The Total...  "
      ]
     },
     "execution_count": 69,
     "metadata": {},
     "output_type": "execute_result"
    }
   ],
   "source": [
    "df_test_docs['Indicator Name'] = \"No. \" + df_test_docs['No.'].map(str) + \" - \" + df_test_docs['Title']\n",
    "df_test_docs.head()"
   ]
  },
  {
   "cell_type": "code",
   "execution_count": 62,
   "metadata": {},
   "outputs": [],
   "source": [
    "available_indicators = df_test_docs['Title'].unique()"
   ]
  },
  {
   "cell_type": "code",
   "execution_count": 58,
   "metadata": {},
   "outputs": [],
   "source": [
    "no = 71\n",
    "title_name = list(df_test_docs[df_test_docs['No.'] == no]['Title'])[0]\n",
    "out_text = \"No. \" + str(no) + ' -- ' + str(title_name)\n",
    "\n",
    "# select paragaphs\n",
    "paragraph_selection = df_fed_para[df_fed_para['No.'] == no]\n",
    "p_list = list(paragraph_selection['ParaText'])\n",
    "t = '\\n'.join(p_list)"
   ]
  },
  {
   "cell_type": "code",
   "execution_count": 57,
   "metadata": {},
   "outputs": [
    {
     "name": "stdout",
     "output_type": "stream",
     "text": [
      "No. 52 -- The House of Representatives\n"
     ]
    }
   ],
   "source": [
    "# random selection\n",
    "option_list = list(df_test_docs['No.'])\n",
    "no = random.choice(option_list)\n",
    "\n",
    "# output text\n",
    "title_name = list(df_test_docs[df_test_docs['No.'] == no]['Title'])[0]\n",
    "out_text = \"No. \" + str(no) + ' -- ' + str(title_name)\n",
    "print(out_text)\n",
    "\n",
    "# select paragaphs\n",
    "paragraph_selection = df_fed_para[df_fed_para['No.'] == no]\n",
    "pl = list(paragraph_selection['ParaText'])\n",
    "#print('> '.join(pl))"
   ]
  }
 ],
 "metadata": {
  "kernelspec": {
   "display_name": "Python 3",
   "language": "python",
   "name": "python3"
  },
  "language_info": {
   "codemirror_mode": {
    "name": "ipython",
    "version": 3
   },
   "file_extension": ".py",
   "mimetype": "text/x-python",
   "name": "python",
   "nbconvert_exporter": "python",
   "pygments_lexer": "ipython3",
   "version": "3.6.8"
  }
 },
 "nbformat": 4,
 "nbformat_minor": 2
}
