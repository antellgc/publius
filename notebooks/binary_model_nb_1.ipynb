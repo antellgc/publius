{
 "cells": [
  {
   "cell_type": "markdown",
   "metadata": {},
   "source": [
    "### Import Requirements"
   ]
  },
  {
   "cell_type": "code",
   "execution_count": 22,
   "metadata": {},
   "outputs": [],
   "source": [
    "%matplotlib inline\n",
    "\n",
    "import pandas as pd\n",
    "pd.set_option('chained_assignment',None)\n",
    "import numpy as np\n",
    "import itertools\n",
    "from collections import Counter\n",
    "import requests\n",
    "from bs4 import BeautifulSoup\n",
    "import matplotlib.pyplot as plt\n",
    "\n",
    "import re\n",
    "import string\n",
    "import codecs\n",
    "\n",
    "from nltk.corpus import stopwords\n",
    "\n",
    "# model prep and evaluation\n",
    "from sklearn.model_selection import train_test_split, StratifiedKFold, GridSearchCV\n",
    "from sklearn.feature_extraction.text import CountVectorizer, TfidfVectorizer\n",
    "from sklearn.metrics import accuracy_score, f1_score, precision_score, recall_score \n",
    "from sklearn.metrics import confusion_matrix, classification_report\n",
    "\n",
    "# machine learning algorithms\n",
    "from sklearn.naive_bayes import MultinomialNB\n",
    "from sklearn.linear_model import LogisticRegression\n",
    "from sklearn.ensemble import GradientBoostingClassifier"
   ]
  },
  {
   "cell_type": "markdown",
   "metadata": {},
   "source": [
    "### Helper Functions"
   ]
  },
  {
   "cell_type": "code",
   "execution_count": 6,
   "metadata": {},
   "outputs": [],
   "source": [
    "def standardize_text(df, text_field):\n",
    "    df[text_field] = df[text_field].str.replace(r\"http\\S+\", \"\")\n",
    "    df[text_field] = df[text_field].str.replace(r\"http\", \"\")\n",
    "    df[text_field] = df[text_field].str.replace(r\"@\\S+\", \"\")\n",
    "    df[text_field] = df[text_field].str.replace(r\"[^A-Za-z0-9(),!?@\\'\\`\\\"\\_\\n]\", \" \")\n",
    "    df[text_field] = df[text_field].str.replace(r\"@\", \"at\")\n",
    "    df[text_field] = df[text_field].str.lower()\n",
    "    return df\n",
    "\n",
    "def plot_confusion_matrix(cm, classes, normalize=False, cmap=plt.cm.Blues):\n",
    "    \"\"\"\n",
    "    This function prints and plots the confusion matrix.\n",
    "    Normalization can be applied by setting `normalize=True`.\n",
    "    \"\"\"\n",
    "    if normalize:\n",
    "        cm = cm.astype('float') / cm.sum(axis=1)[:, np.newaxis]\n",
    "    plt.imshow(cm, interpolation='nearest', cmap=cmap)\n",
    "    plt.colorbar()\n",
    "    tick_marks = np.arange(len(classes))\n",
    "    plt.xticks(tick_marks, classes, rotation=45)\n",
    "    plt.yticks(tick_marks, classes)\n",
    "    fmt = '.2f' if normalize else 'd'\n",
    "    thresh = cm.max() / 2.\n",
    "    for i, j in itertools.product(range(cm.shape[0]), range(cm.shape[1])):\n",
    "        plt.text(j, i, format(cm[i, j], fmt),\n",
    "                 horizontalalignment=\"center\",\n",
    "                 color=\"white\" if cm[i, j] > thresh else \"black\")\n",
    "    plt.ylabel('True label')\n",
    "    plt.xlabel('Predicted label')\n",
    "    plt.tight_layout()"
   ]
  },
  {
   "cell_type": "markdown",
   "metadata": {},
   "source": [
    "### Text Preprocessing"
   ]
  },
  {
   "cell_type": "code",
   "execution_count": 12,
   "metadata": {},
   "outputs": [],
   "source": [
    "# Training data\n",
    "df_train = pd.read_csv(\"../data/train_balanced.csv\")\n",
    "df_train = standardize_text(df_train, \"sentence\")\n",
    "\n",
    "# Testing data\n",
    "df_test = pd.read_csv(\"../data/test_balanced.csv\")\n",
    "df_test = standardize_text(df_test, \"sentence\")"
   ]
  },
  {
   "cell_type": "markdown",
   "metadata": {},
   "source": [
    "### Data Transformations"
   ]
  },
  {
   "cell_type": "code",
   "execution_count": 15,
   "metadata": {},
   "outputs": [
    {
     "name": "stdout",
     "output_type": "stream",
     "text": [
      "(1500, 5385) (600, 5385)\n"
     ]
    }
   ],
   "source": [
    "# select data fields\n",
    "X_train, X_test = df_train['sentence'], df_test['sentence']\n",
    "y_train, y_test = df_train['author'], df_test['author']\n",
    "\n",
    "# intialize the bag-of-words vectorizer\n",
    "bow_vectorizer = CountVectorizer()\n",
    "\n",
    "# fit and transform the training data\n",
    "X_train_bow = bow_vectorizer.fit_transform(X_train)\n",
    "# transform the testing data\n",
    "X_test_bow = bow_vectorizer.transform(X_test)\n",
    "\n",
    "print(X_train_bow.shape, X_test_bow.shape)"
   ]
  },
  {
   "cell_type": "markdown",
   "metadata": {},
   "source": [
    "### Logistic Regression"
   ]
  },
  {
   "cell_type": "code",
   "execution_count": 19,
   "metadata": {},
   "outputs": [
    {
     "name": "stdout",
     "output_type": "stream",
     "text": [
      "Predicted value distribution: {'Hamilton': 271, 'Madison': 329}\n",
      "             precision    recall  f1-score   support\n",
      "\n",
      "   Hamilton      0.675     0.610     0.641       300\n",
      "    Madison      0.644     0.707     0.674       300\n",
      "\n",
      "avg / total      0.660     0.658     0.658       600\n",
      "\n"
     ]
    },
    {
     "data": {
      "image/png": "[encoded data removed]",
      "text/plain": [
       "<Figure size 432x288 with 2 Axes>"
      ]
     },
     "metadata": {
      "needs_background": "light"
     },
     "output_type": "display_data"
    }
   ],
   "source": [
    "# Naive Bayes model fitting\n",
    "lr = LogisticRegression()\n",
    "lr.fit(X_train_bow, y_train)\n",
    "\n",
    "# prediction\n",
    "y_test_predict = lr.predict(X_test_bow)\n",
    "print('Predicted value distribution:', dict(Counter(y_test_predict)))\n",
    "\n",
    "# evaluation\n",
    "print(classification_report(y_test, y_test_predict, digits=3))\n",
    "\n",
    "cnf_matrix = confusion_matrix(y_test, y_test_predict)\n",
    "plot_confusion_matrix(cnf_matrix, classes=['Hamilton','Madison'], normalize=False)\n",
    "plt.show()"
   ]
  },
  {
   "cell_type": "markdown",
   "metadata": {},
   "source": [
    "### Logistic Regression with Grid Search"
   ]
  },
  {
   "cell_type": "code",
   "execution_count": 52,
   "metadata": {},
   "outputs": [
    {
     "data": {
      "text/plain": [
       "array([1.00000000e-02, 1.09749877e-02, 1.20450354e-02, 1.32194115e-02,\n",
       "       1.45082878e-02, 1.59228279e-02, 1.74752840e-02, 1.91791026e-02,\n",
       "       2.10490414e-02, 2.31012970e-02, 2.53536449e-02, 2.78255940e-02,\n",
       "       3.05385551e-02, 3.35160265e-02, 3.67837977e-02, 4.03701726e-02,\n",
       "       4.43062146e-02, 4.86260158e-02, 5.33669923e-02, 5.85702082e-02,\n",
       "       6.42807312e-02, 7.05480231e-02, 7.74263683e-02, 8.49753436e-02,\n",
       "       9.32603347e-02, 1.02353102e-01, 1.12332403e-01, 1.23284674e-01,\n",
       "       1.35304777e-01, 1.48496826e-01, 1.62975083e-01, 1.78864953e-01,\n",
       "       1.96304065e-01, 2.15443469e-01, 2.36448941e-01, 2.59502421e-01,\n",
       "       2.84803587e-01, 3.12571585e-01, 3.43046929e-01, 3.76493581e-01,\n",
       "       4.13201240e-01, 4.53487851e-01, 4.97702356e-01, 5.46227722e-01,\n",
       "       5.99484250e-01, 6.57933225e-01, 7.22080902e-01, 7.92482898e-01,\n",
       "       8.69749003e-01, 9.54548457e-01, 1.04761575e+00, 1.14975700e+00,\n",
       "       1.26185688e+00, 1.38488637e+00, 1.51991108e+00, 1.66810054e+00,\n",
       "       1.83073828e+00, 2.00923300e+00, 2.20513074e+00, 2.42012826e+00,\n",
       "       2.65608778e+00, 2.91505306e+00, 3.19926714e+00, 3.51119173e+00,\n",
       "       3.85352859e+00, 4.22924287e+00, 4.64158883e+00, 5.09413801e+00,\n",
       "       5.59081018e+00, 6.13590727e+00, 6.73415066e+00, 7.39072203e+00,\n",
       "       8.11130831e+00, 8.90215085e+00, 9.77009957e+00, 1.07226722e+01,\n",
       "       1.17681195e+01, 1.29154967e+01, 1.41747416e+01, 1.55567614e+01,\n",
       "       1.70735265e+01, 1.87381742e+01, 2.05651231e+01, 2.25701972e+01,\n",
       "       2.47707636e+01, 2.71858824e+01, 2.98364724e+01, 3.27454916e+01,\n",
       "       3.59381366e+01, 3.94420606e+01, 4.32876128e+01, 4.75081016e+01,\n",
       "       5.21400829e+01, 5.72236766e+01, 6.28029144e+01, 6.89261210e+01,\n",
       "       7.56463328e+01, 8.30217568e+01, 9.11162756e+01, 1.00000000e+02])"
      ]
     },
     "execution_count": 52,
     "metadata": {},
     "output_type": "execute_result"
    }
   ],
   "source": [
    "C = np.logspace(-2, 2, num=100)\n",
    "C"
   ]
  },
  {
   "cell_type": "code",
   "execution_count": 53,
   "metadata": {},
   "outputs": [
    {
     "name": "stdout",
     "output_type": "stream",
     "text": [
      "Fitting 5 folds for each of 200 candidates, totalling 1000 fits\n",
      "Best Penalty: l2\n",
      "Best C: 0.16297508346206444\n"
     ]
    },
    {
     "name": "stderr",
     "output_type": "stream",
     "text": [
      "[Parallel(n_jobs=1)]: Done 1000 out of 1000 | elapsed:   22.6s finished\n"
     ]
    }
   ],
   "source": [
    "# Create regularization penalty space\n",
    "penalty = ['l1', 'l2']\n",
    "\n",
    "# Create regularization hyperparameter space\n",
    "C = np.logspace(-2, 2, num=100)\n",
    "\n",
    "# Create hyperparameter options\n",
    "hyperparameters = dict(C=C, penalty=penalty)\n",
    "\n",
    "# Create grid search using 5-fold cross validation\n",
    "clf = GridSearchCV(lr, hyperparameters, cv=5, verbose=1)\n",
    "\n",
    "# Fit grid search\n",
    "best_model = clf.fit(X_train_bow, y_train)\n",
    "\n",
    "# View best hyperparameters\n",
    "print('Best Penalty:', best_model.best_estimator_.get_params()['penalty'])\n",
    "print('Best C:', best_model.best_estimator_.get_params()['C'])"
   ]
  },
  {
   "cell_type": "code",
   "execution_count": 51,
   "metadata": {},
   "outputs": [
    {
     "name": "stdout",
     "output_type": "stream",
     "text": [
      "Predicted value distribution: {'Hamilton': 261, 'Madison': 339}\n",
      "             precision    recall  f1-score   support\n",
      "\n",
      "   Hamilton      0.682     0.593     0.635       300\n",
      "    Madison      0.640     0.723     0.679       300\n",
      "\n",
      "avg / total      0.661     0.658     0.657       600\n",
      "\n"
     ]
    },
    {
     "data": {
      "image/png": "[encoded data removed]",
      "text/plain": [
       "<Figure size 432x288 with 2 Axes>"
      ]
     },
     "metadata": {
      "needs_background": "light"
     },
     "output_type": "display_data"
    }
   ],
   "source": [
    "# Naive Bayes model fitting\n",
    "lr = LogisticRegression(penalty='l2', C=0.17)\n",
    "lr.fit(X_train_bow, y_train)\n",
    "\n",
    "# prediction\n",
    "y_test_predict = lr.predict(X_test_bow)\n",
    "print('Predicted value distribution:', dict(Counter(y_test_predict)))\n",
    "\n",
    "# evaluation\n",
    "print(classification_report(y_test, y_test_predict, digits=3))\n",
    "\n",
    "cnf_matrix = confusion_matrix(y_test, y_test_predict)\n",
    "plot_confusion_matrix(cnf_matrix, classes=['Hamilton','Madison'], normalize=False)\n",
    "plt.show()"
   ]
  }
 ],
 "metadata": {
  "kernelspec": {
   "display_name": "Python 3",
   "language": "python",
   "name": "python3"
  },
  "language_info": {
   "codemirror_mode": {
    "name": "ipython",
    "version": 3
   },
   "file_extension": ".py",
   "mimetype": "text/x-python",
   "name": "python",
   "nbconvert_exporter": "python",
   "pygments_lexer": "ipython3",
   "version": "3.6.6"
  }
 },
 "nbformat": 4,
 "nbformat_minor": 2
}
