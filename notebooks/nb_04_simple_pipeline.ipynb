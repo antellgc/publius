{
 "cells": [
  {
   "cell_type": "markdown",
   "metadata": {},
   "source": [
    "# Notebook 04 - Simple Pipeline"
   ]
  },
  {
   "cell_type": "markdown",
   "metadata": {},
   "source": [
    "### Import requirements"
   ]
  },
  {
   "cell_type": "code",
   "execution_count": 1,
   "metadata": {},
   "outputs": [],
   "source": [
    "# natural language processing\n",
    "from sklearn.feature_extraction.text import CountVectorizer\n",
    "from sklearn.feature_extraction.text import TfidfVectorizer\n",
    "\n",
    "# machine learning\n",
    "from sklearn.model_selection import GridSearchCV, cross_val_score, cross_val_predict\n",
    "from sklearn.metrics import confusion_matrix, classification_report\n",
    "from sklearn.naive_bayes import MultinomialNB\n",
    "from sklearn.linear_model import LogisticRegression\n",
    "from sklearn.ensemble import RandomForestClassifier\n",
    "\n",
    "# warnings\n",
    "import warnings\n",
    "warnings.simplefilter(action='ignore', category=FutureWarning)\n",
    "warnings.simplefilter(action='ignore', category=DeprecationWarning)\n",
    "\n",
    "import itertools\n",
    "from collections import Counter\n",
    "import numpy as np\n",
    "import pandas as pd\n",
    "pd.set_option('chained_assignment',None)\n",
    "import matplotlib.pyplot as plt\n",
    "% matplotlib inline"
   ]
  },
  {
   "cell_type": "markdown",
   "metadata": {},
   "source": [
    "### Read in data"
   ]
  },
  {
   "cell_type": "code",
   "execution_count": 2,
   "metadata": {},
   "outputs": [
    {
     "name": "stdout",
     "output_type": "stream",
     "text": [
      "(578, 3)\n",
      "(336, 3)\n"
     ]
    }
   ],
   "source": [
    "df_train_block = pd.read_csv(\"../processed_data/train_blocks.csv\")\n",
    "df_test_block = pd.read_csv(\"../processed_data/test_blocks.csv\")\n",
    "\n",
    "print(df_train_block.shape)\n",
    "print(df_test_block.shape)"
   ]
  },
  {
   "cell_type": "markdown",
   "metadata": {},
   "source": [
    "### Helper functions"
   ]
  },
  {
   "cell_type": "code",
   "execution_count": 3,
   "metadata": {},
   "outputs": [],
   "source": [
    "def standardize_text(dataframe, text_field):\n",
    "    \"\"\"\n",
    "    Standardizes text fields by replacing characters.\n",
    "    Parameters:\n",
    "        dataframe: a dataframe containing a column with text\n",
    "        text_field: the column to standardize\n",
    "    Returns:\n",
    "        dataframe: the same dataframe corrected\n",
    "    \"\"\"\n",
    "    dataframe[text_field] = dataframe[text_field].str.replace(r\"http\\S+\", \"\")\n",
    "    dataframe[text_field] = dataframe[text_field].str.replace(r\"http\", \"\")\n",
    "    dataframe[text_field] = dataframe[text_field].str.replace(r\"@\\S+\", \"\")\n",
    "    dataframe[text_field] = dataframe[text_field].str.replace(r\"[^A-Za-z0-9(),!?@\\'\\`\\\"\\_\\n]\", \" \")\n",
    "    dataframe[text_field] = dataframe[text_field].str.replace(r\"@\", \"at\")\n",
    "    dataframe[text_field] = dataframe[text_field].str.lower()\n",
    "    return dataframe\n",
    "\n",
    "def plot_confusion_matrix(cm, classes, normalize=False, cmap=plt.cm.Blues):\n",
    "    \"\"\"\n",
    "    This function prints and plots the confusion matrix.\n",
    "    Normalization can be applied by setting `normalize=True`.\n",
    "    \"\"\"\n",
    "    if normalize:\n",
    "        cm = cm.astype('float') / cm.sum(axis=1)[:, np.newaxis]\n",
    "    plt.imshow(cm, interpolation='nearest', cmap=cmap)\n",
    "    plt.colorbar()\n",
    "    tick_marks = np.arange(len(classes))\n",
    "    plt.xticks(tick_marks, classes, rotation=45)\n",
    "    plt.yticks(tick_marks, classes)\n",
    "    fmt = '.2f' if normalize else 'd'\n",
    "    thresh = cm.max() / 2.\n",
    "    for i, j in itertools.product(range(cm.shape[0]), range(cm.shape[1])):\n",
    "        plt.text(j, i, format(cm[i, j], fmt),\n",
    "                 horizontalalignment=\"center\",\n",
    "                 color=\"white\" if cm[i, j] > thresh else \"black\")\n",
    "    plt.ylabel('True label')\n",
    "    plt.xlabel('Predicted label')\n",
    "    plt.tight_layout()"
   ]
  },
  {
   "cell_type": "markdown",
   "metadata": {},
   "source": [
    "### Text preprocessing and target selection"
   ]
  },
  {
   "cell_type": "code",
   "execution_count": 4,
   "metadata": {},
   "outputs": [],
   "source": [
    "# clean up text\n",
    "df_train_block_clean = standardize_text(df_train_block, \"Text Block\")\n",
    "df_test_block_clean = standardize_text(df_test_block, \"Text Block\")\n",
    "\n",
    "# select data fields\n",
    "X_train, X_test = df_train_block_clean['Text Block'], df_test_block_clean['Text Block']\n",
    "y_train, y_test = df_train_block_clean['Author'], df_test_block_clean['Author']"
   ]
  },
  {
   "cell_type": "markdown",
   "metadata": {},
   "source": [
    "### Bag of Words and TF-IDF vectorization"
   ]
  },
  {
   "cell_type": "code",
   "execution_count": 5,
   "metadata": {},
   "outputs": [
    {
     "name": "stdout",
     "output_type": "stream",
     "text": [
      "Bag of Words: (578, 7324) (336, 7324)\n",
      "TF-IDF: (578, 7324) (336, 7324)\n"
     ]
    }
   ],
   "source": [
    "# intialize vectorizers\n",
    "bow_vectorizer = CountVectorizer()\n",
    "tfidf_vectorizer = TfidfVectorizer()\n",
    "\n",
    "# fit and transform the data\n",
    "\n",
    "# bag of words\n",
    "X_train_bow = bow_vectorizer.fit_transform(X_train)\n",
    "X_test_bow = bow_vectorizer.transform(X_test)\n",
    "print(\"Bag of Words:\", X_train_bow.shape, X_test_bow.shape)\n",
    "\n",
    "# tf-idf\n",
    "X_train_tfidf = tfidf_vectorizer.fit_transform(X_train)\n",
    "X_test_tfidf = tfidf_vectorizer.transform(X_test)\n",
    "print(\"TF-IDF:\", X_train_tfidf.shape, X_test_tfidf.shape)"
   ]
  },
  {
   "cell_type": "code",
   "execution_count": 21,
   "metadata": {},
   "outputs": [
    {
     "data": {
      "text/plain": [
       "sklearn.feature_extraction.text.CountVectorizer"
      ]
     },
     "execution_count": 21,
     "metadata": {},
     "output_type": "execute_result"
    }
   ],
   "source": [
    "type(bow_vectorizer)"
   ]
  },
  {
   "cell_type": "code",
   "execution_count": 20,
   "metadata": {},
   "outputs": [
    {
     "data": {
      "text/plain": [
       "scipy.sparse.csr.csr_matrix"
      ]
     },
     "execution_count": 20,
     "metadata": {},
     "output_type": "execute_result"
    }
   ],
   "source": [
    "type(X_train_bow)"
   ]
  },
  {
   "cell_type": "code",
   "execution_count": 22,
   "metadata": {},
   "outputs": [
    {
     "data": {
      "text/plain": [
       "scipy.sparse.csr.csr_matrix"
      ]
     },
     "execution_count": 22,
     "metadata": {},
     "output_type": "execute_result"
    }
   ],
   "source": [
    "type(X_test_bow)"
   ]
  },
  {
   "cell_type": "markdown",
   "metadata": {},
   "source": [
    "### Cross validation parameter search"
   ]
  },
  {
   "cell_type": "code",
   "execution_count": 6,
   "metadata": {},
   "outputs": [
    {
     "name": "stdout",
     "output_type": "stream",
     "text": [
      "Fitting 5 folds for each of 200 candidates, totalling 1000 fits\n"
     ]
    },
    {
     "name": "stderr",
     "output_type": "stream",
     "text": [
      "[Parallel(n_jobs=-1)]: Using backend LokyBackend with 4 concurrent workers.\n",
      "[Parallel(n_jobs=-1)]: Done  42 tasks      | elapsed:    6.7s\n",
      "[Parallel(n_jobs=-1)]: Done 192 tasks      | elapsed:   15.3s\n",
      "[Parallel(n_jobs=-1)]: Done 505 tasks      | elapsed:   43.8s\n",
      "[Parallel(n_jobs=-1)]: Done 855 tasks      | elapsed:  4.8min\n",
      "[Parallel(n_jobs=-1)]: Done 1000 out of 1000 | elapsed:  7.1min finished\n"
     ]
    },
    {
     "name": "stdout",
     "output_type": "stream",
     "text": [
      "Best Solver: saga\n",
      "Best Penalty: l2\n",
      "Best C: 0.10722672220103242\n"
     ]
    }
   ],
   "source": [
    "# Create hyperparamter space\n",
    "hyperparameters = dict(C = np.logspace(-4, 0, num=100), penalty = ['l1','l2'])\n",
    "\n",
    "# Create grid search using 5-fold cross validation\n",
    "lr = LogisticRegression(solver='saga',multi_class='auto',class_weight='balanced',max_iter=1000)\n",
    "lr_clf = GridSearchCV(lr, hyperparameters, cv=5, verbose=1, n_jobs=-1)\n",
    "best_lr_model_bow = lr_clf.fit(X_train_bow, y_train)\n",
    "\n",
    "# View best hyperparameters\n",
    "print('Best Solver:', best_lr_model_bow.best_estimator_.get_params()['solver'])\n",
    "print('Best Penalty:', best_lr_model_bow.best_estimator_.get_params()['penalty'])\n",
    "print('Best C:', best_lr_model_bow.best_estimator_.get_params()['C'])"
   ]
  },
  {
   "cell_type": "markdown",
   "metadata": {},
   "source": [
    "### Cross validation performance"
   ]
  },
  {
   "cell_type": "code",
   "execution_count": 7,
   "metadata": {},
   "outputs": [
    {
     "data": {
      "text/plain": [
       "split0_test_score    0.854701\n",
       "split1_test_score    0.810345\n",
       "split2_test_score    0.791304\n",
       "split3_test_score    0.834783\n",
       "split4_test_score    0.869565\n",
       "mean_test_score       0.83218\n",
       "Name: 151, dtype: object"
      ]
     },
     "metadata": {},
     "output_type": "display_data"
    }
   ],
   "source": [
    "best = lr_clf.best_index_\n",
    "df_cv_lr = pd.DataFrame(lr_clf.cv_results_).iloc[best,:]\n",
    "test_scores = [\"split0_test_score\", \"split1_test_score\", \"split2_test_score\",\n",
    "               \"split3_test_score\",\"split4_test_score\", \"mean_test_score\"]\n",
    "\n",
    "display(df_cv_lr[test_scores])"
   ]
  },
  {
   "cell_type": "code",
   "execution_count": 8,
   "metadata": {},
   "outputs": [
    {
     "name": "stdout",
     "output_type": "stream",
     "text": [
      "[0.85470085 0.81034483 0.79130435 0.83478261 0.86956522]\n"
     ]
    }
   ],
   "source": [
    "lr = LogisticRegression(solver='saga', multi_class='auto', class_weight='balanced', \n",
    "                        penalty='l2', C=0.135305, max_iter=1000)\n",
    "    \n",
    "all_accuracies = cross_val_score(estimator=lr, X=X_train_bow, y=y_train, cv=5)\n",
    "print(all_accuracies)"
   ]
  },
  {
   "cell_type": "code",
   "execution_count": 9,
   "metadata": {},
   "outputs": [
    {
     "name": "stdout",
     "output_type": "stream",
     "text": [
      "578 578\n"
     ]
    },
    {
     "data": {
      "image/png": "[encoded data removed]",
      "text/plain": [
       "<Figure size 432x288 with 2 Axes>"
      ]
     },
     "metadata": {
      "needs_background": "light"
     },
     "output_type": "display_data"
    }
   ],
   "source": [
    "all_cv_predictions = cross_val_predict(estimator=lr, X=X_train_bow, y=y_train, cv=5)\n",
    "print(len(all_cv_predictions), len(y_train))\n",
    "\n",
    "cnf_matrix = confusion_matrix(y_train, all_cv_predictions)\n",
    "plot_confusion_matrix(cnf_matrix, classes=['Hamilton','Jay','Madison'], normalize=False)\n",
    "plt.show()"
   ]
  },
  {
   "cell_type": "markdown",
   "metadata": {},
   "source": [
    "### Logistic Regression"
   ]
  },
  {
   "cell_type": "code",
   "execution_count": 25,
   "metadata": {
    "scrolled": true
   },
   "outputs": [
    {
     "name": "stdout",
     "output_type": "stream",
     "text": [
      "0.7866462896148585\n"
     ]
    },
    {
     "data": {
      "image/png": "[encoded data removed]",
      "text/plain": [
       "<Figure size 432x288 with 2 Axes>"
      ]
     },
     "metadata": {
      "needs_background": "light"
     },
     "output_type": "display_data"
    }
   ],
   "source": [
    "def model_train(X_train_bow, y_train):\n",
    "    # model fitting\n",
    "    model = LogisticRegression(\n",
    "        solver='saga',\n",
    "        multi_class='auto',\n",
    "        class_weight='balanced',\n",
    "        penalty='l2',\n",
    "        C=0.135,\n",
    "        max_iter=1000)\n",
    "    model.fit(X_train_bow, y_train)\n",
    "    return model\n",
    "\n",
    "def evaluate_model(y_test, y_test_predicted):\n",
    "    report = classification_report(y_test, y_test_predicted, digits=3, output_dict=True)\n",
    "    weighted_f1 = report['weighted avg']['f1-score']\n",
    "    return weighted_f1\n",
    "\n",
    "lr_model = model_train(X_train_bow, y_train)\n",
    "y_test_predicted = lr_model.predict(X_test_bow)\n",
    "weighted_f1 = evaluate_model(y_test, y_test_predicted)\n",
    "print(weighted_f1)\n",
    "\n",
    "cnf_matrix = confusion_matrix(y_test, y_test_predicted)\n",
    "plot_confusion_matrix(cnf_matrix, classes=['Hamilton','Jay','Madison'], normalize=False)\n",
    "plt.show()"
   ]
  },
  {
   "cell_type": "code",
   "execution_count": 75,
   "metadata": {},
   "outputs": [
    {
     "data": {
      "image/png": "[encoded data removed]",
      "text/plain": [
       "<Figure size 432x288 with 2 Axes>"
      ]
     },
     "metadata": {
      "needs_background": "light"
     },
     "output_type": "display_data"
    }
   ],
   "source": [
    "###\n",
    "df_test_block_predictions = df_test_block_clean.copy()\n",
    "df_test_block_predictions.insert(3, 'Prediction', y_test_predicted)\n",
    "\n",
    "no_list = []\n",
    "true_author_list = []\n",
    "pred_author_list = []\n",
    "mad_list = []\n",
    "jay_list = []\n",
    "ham_list = []\n",
    "\n",
    "for i, group_df in df_test_block_predictions.groupby('No.'):\n",
    "    \n",
    "    true_author_counter = Counter(group_df['Author'])\n",
    "    pred_author_counter = Counter(group_df['Prediction'])\n",
    "    true_author = true_author_counter.most_common()[0][0]\n",
    "    pred_author = pred_author_counter.most_common()[0][0]\n",
    "    total = sum(pred_author_counter.values())\n",
    "    \n",
    "    mad_list.append(pred_author_counter['Madison']/total)\n",
    "    jay_list.append(pred_author_counter['Jay']/total)\n",
    "    ham_list.append(pred_author_counter['Hamilton']/total)\n",
    "    no_list.append(i)\n",
    "    true_author_list.append(true_author)\n",
    "    pred_author_list.append(pred_author)\n",
    "\n",
    "final_prediction_dict = {\n",
    "    'No.':no_list,\n",
    "    'True Author':true_author_list,\n",
    "    'Predicted Author':pred_author_list,\n",
    "    'Madison confidence':mad_list,\n",
    "    'Jay confidence':jay_list,\n",
    "    'Hamilton confidence':ham_list}\n",
    "\n",
    "cnf_matrix = confusion_matrix(true_author_list, pred_author_list)\n",
    "plot_confusion_matrix(cnf_matrix, classes=['Hamilton','Jay','Madison'], normalize=False)\n",
    "plt.show()"
   ]
  },
  {
   "cell_type": "code",
   "execution_count": 76,
   "metadata": {},
   "outputs": [
    {
     "data": {
      "text/html": [
       "<div>\n",
       "<style scoped>\n",
       "    .dataframe tbody tr th:only-of-type {\n",
       "        vertical-align: middle;\n",
       "    }\n",
       "\n",
       "    .dataframe tbody tr th {\n",
       "        vertical-align: top;\n",
       "    }\n",
       "\n",
       "    .dataframe thead th {\n",
       "        text-align: right;\n",
       "    }\n",
       "</style>\n",
       "<table border=\"1\" class=\"dataframe\">\n",
       "  <thead>\n",
       "    <tr style=\"text-align: right;\">\n",
       "      <th></th>\n",
       "      <th>No.</th>\n",
       "      <th>True Author</th>\n",
       "      <th>Predicted Author</th>\n",
       "      <th>Madison confidence</th>\n",
       "      <th>Jay confidence</th>\n",
       "      <th>Hamilton confidence</th>\n",
       "    </tr>\n",
       "  </thead>\n",
       "  <tbody>\n",
       "    <tr>\n",
       "      <th>0</th>\n",
       "      <td>5</td>\n",
       "      <td>Jay</td>\n",
       "      <td>Jay</td>\n",
       "      <td>0.000000</td>\n",
       "      <td>0.800</td>\n",
       "      <td>0.200000</td>\n",
       "    </tr>\n",
       "    <tr>\n",
       "      <th>1</th>\n",
       "      <td>52</td>\n",
       "      <td>Madison</td>\n",
       "      <td>Madison</td>\n",
       "      <td>0.727273</td>\n",
       "      <td>0.000</td>\n",
       "      <td>0.272727</td>\n",
       "    </tr>\n",
       "    <tr>\n",
       "      <th>2</th>\n",
       "      <td>53</td>\n",
       "      <td>Madison</td>\n",
       "      <td>Madison</td>\n",
       "      <td>0.846154</td>\n",
       "      <td>0.000</td>\n",
       "      <td>0.153846</td>\n",
       "    </tr>\n",
       "    <tr>\n",
       "      <th>3</th>\n",
       "      <td>54</td>\n",
       "      <td>Madison</td>\n",
       "      <td>Madison</td>\n",
       "      <td>0.916667</td>\n",
       "      <td>0.000</td>\n",
       "      <td>0.083333</td>\n",
       "    </tr>\n",
       "    <tr>\n",
       "      <th>4</th>\n",
       "      <td>55</td>\n",
       "      <td>Madison</td>\n",
       "      <td>Madison</td>\n",
       "      <td>0.700000</td>\n",
       "      <td>0.000</td>\n",
       "      <td>0.300000</td>\n",
       "    </tr>\n",
       "    <tr>\n",
       "      <th>5</th>\n",
       "      <td>56</td>\n",
       "      <td>Madison</td>\n",
       "      <td>Madison</td>\n",
       "      <td>0.777778</td>\n",
       "      <td>0.000</td>\n",
       "      <td>0.222222</td>\n",
       "    </tr>\n",
       "    <tr>\n",
       "      <th>6</th>\n",
       "      <td>57</td>\n",
       "      <td>Madison</td>\n",
       "      <td>Madison</td>\n",
       "      <td>0.857143</td>\n",
       "      <td>0.000</td>\n",
       "      <td>0.142857</td>\n",
       "    </tr>\n",
       "    <tr>\n",
       "      <th>7</th>\n",
       "      <td>58</td>\n",
       "      <td>Madison</td>\n",
       "      <td>Madison</td>\n",
       "      <td>0.833333</td>\n",
       "      <td>0.000</td>\n",
       "      <td>0.166667</td>\n",
       "    </tr>\n",
       "    <tr>\n",
       "      <th>8</th>\n",
       "      <td>62</td>\n",
       "      <td>Madison</td>\n",
       "      <td>Madison</td>\n",
       "      <td>0.846154</td>\n",
       "      <td>0.000</td>\n",
       "      <td>0.153846</td>\n",
       "    </tr>\n",
       "    <tr>\n",
       "      <th>9</th>\n",
       "      <td>63</td>\n",
       "      <td>Madison</td>\n",
       "      <td>Madison</td>\n",
       "      <td>0.692308</td>\n",
       "      <td>0.000</td>\n",
       "      <td>0.307692</td>\n",
       "    </tr>\n",
       "    <tr>\n",
       "      <th>10</th>\n",
       "      <td>64</td>\n",
       "      <td>Jay</td>\n",
       "      <td>Hamilton</td>\n",
       "      <td>0.375000</td>\n",
       "      <td>0.125</td>\n",
       "      <td>0.500000</td>\n",
       "    </tr>\n",
       "    <tr>\n",
       "      <th>11</th>\n",
       "      <td>67</td>\n",
       "      <td>Hamilton</td>\n",
       "      <td>Hamilton</td>\n",
       "      <td>0.166667</td>\n",
       "      <td>0.000</td>\n",
       "      <td>0.833333</td>\n",
       "    </tr>\n",
       "    <tr>\n",
       "      <th>12</th>\n",
       "      <td>68</td>\n",
       "      <td>Hamilton</td>\n",
       "      <td>Hamilton</td>\n",
       "      <td>0.000000</td>\n",
       "      <td>0.000</td>\n",
       "      <td>1.000000</td>\n",
       "    </tr>\n",
       "    <tr>\n",
       "      <th>13</th>\n",
       "      <td>69</td>\n",
       "      <td>Hamilton</td>\n",
       "      <td>Hamilton</td>\n",
       "      <td>0.071429</td>\n",
       "      <td>0.000</td>\n",
       "      <td>0.928571</td>\n",
       "    </tr>\n",
       "    <tr>\n",
       "      <th>14</th>\n",
       "      <td>70</td>\n",
       "      <td>Hamilton</td>\n",
       "      <td>Hamilton</td>\n",
       "      <td>0.200000</td>\n",
       "      <td>0.000</td>\n",
       "      <td>0.800000</td>\n",
       "    </tr>\n",
       "    <tr>\n",
       "      <th>15</th>\n",
       "      <td>71</td>\n",
       "      <td>Hamilton</td>\n",
       "      <td>Hamilton</td>\n",
       "      <td>0.285714</td>\n",
       "      <td>0.000</td>\n",
       "      <td>0.714286</td>\n",
       "    </tr>\n",
       "    <tr>\n",
       "      <th>16</th>\n",
       "      <td>72</td>\n",
       "      <td>Hamilton</td>\n",
       "      <td>Hamilton</td>\n",
       "      <td>0.250000</td>\n",
       "      <td>0.000</td>\n",
       "      <td>0.750000</td>\n",
       "    </tr>\n",
       "    <tr>\n",
       "      <th>17</th>\n",
       "      <td>73</td>\n",
       "      <td>Hamilton</td>\n",
       "      <td>Hamilton</td>\n",
       "      <td>0.090909</td>\n",
       "      <td>0.000</td>\n",
       "      <td>0.909091</td>\n",
       "    </tr>\n",
       "    <tr>\n",
       "      <th>18</th>\n",
       "      <td>74</td>\n",
       "      <td>Hamilton</td>\n",
       "      <td>Hamilton</td>\n",
       "      <td>0.000000</td>\n",
       "      <td>0.000</td>\n",
       "      <td>1.000000</td>\n",
       "    </tr>\n",
       "    <tr>\n",
       "      <th>19</th>\n",
       "      <td>75</td>\n",
       "      <td>Hamilton</td>\n",
       "      <td>Hamilton</td>\n",
       "      <td>0.000000</td>\n",
       "      <td>0.000</td>\n",
       "      <td>1.000000</td>\n",
       "    </tr>\n",
       "    <tr>\n",
       "      <th>20</th>\n",
       "      <td>76</td>\n",
       "      <td>Hamilton</td>\n",
       "      <td>Hamilton</td>\n",
       "      <td>0.222222</td>\n",
       "      <td>0.000</td>\n",
       "      <td>0.777778</td>\n",
       "    </tr>\n",
       "    <tr>\n",
       "      <th>21</th>\n",
       "      <td>77</td>\n",
       "      <td>Hamilton</td>\n",
       "      <td>Hamilton</td>\n",
       "      <td>0.100000</td>\n",
       "      <td>0.000</td>\n",
       "      <td>0.900000</td>\n",
       "    </tr>\n",
       "    <tr>\n",
       "      <th>22</th>\n",
       "      <td>78</td>\n",
       "      <td>Hamilton</td>\n",
       "      <td>Hamilton</td>\n",
       "      <td>0.384615</td>\n",
       "      <td>0.000</td>\n",
       "      <td>0.615385</td>\n",
       "    </tr>\n",
       "    <tr>\n",
       "      <th>23</th>\n",
       "      <td>79</td>\n",
       "      <td>Hamilton</td>\n",
       "      <td>Hamilton</td>\n",
       "      <td>0.333333</td>\n",
       "      <td>0.000</td>\n",
       "      <td>0.666667</td>\n",
       "    </tr>\n",
       "    <tr>\n",
       "      <th>24</th>\n",
       "      <td>80</td>\n",
       "      <td>Hamilton</td>\n",
       "      <td>Hamilton</td>\n",
       "      <td>0.357143</td>\n",
       "      <td>0.000</td>\n",
       "      <td>0.642857</td>\n",
       "    </tr>\n",
       "    <tr>\n",
       "      <th>25</th>\n",
       "      <td>81</td>\n",
       "      <td>Hamilton</td>\n",
       "      <td>Hamilton</td>\n",
       "      <td>0.111111</td>\n",
       "      <td>0.000</td>\n",
       "      <td>0.888889</td>\n",
       "    </tr>\n",
       "    <tr>\n",
       "      <th>26</th>\n",
       "      <td>82</td>\n",
       "      <td>Hamilton</td>\n",
       "      <td>Hamilton</td>\n",
       "      <td>0.142857</td>\n",
       "      <td>0.000</td>\n",
       "      <td>0.857143</td>\n",
       "    </tr>\n",
       "    <tr>\n",
       "      <th>27</th>\n",
       "      <td>83</td>\n",
       "      <td>Hamilton</td>\n",
       "      <td>Hamilton</td>\n",
       "      <td>0.166667</td>\n",
       "      <td>0.000</td>\n",
       "      <td>0.833333</td>\n",
       "    </tr>\n",
       "    <tr>\n",
       "      <th>28</th>\n",
       "      <td>84</td>\n",
       "      <td>Hamilton</td>\n",
       "      <td>Hamilton</td>\n",
       "      <td>0.476190</td>\n",
       "      <td>0.000</td>\n",
       "      <td>0.523810</td>\n",
       "    </tr>\n",
       "    <tr>\n",
       "      <th>29</th>\n",
       "      <td>85</td>\n",
       "      <td>Hamilton</td>\n",
       "      <td>Hamilton</td>\n",
       "      <td>0.076923</td>\n",
       "      <td>0.000</td>\n",
       "      <td>0.923077</td>\n",
       "    </tr>\n",
       "  </tbody>\n",
       "</table>\n",
       "</div>"
      ],
      "text/plain": [
       "    No. True Author Predicted Author  Madison confidence  Jay confidence  \\\n",
       "0     5         Jay              Jay            0.000000           0.800   \n",
       "1    52     Madison          Madison            0.727273           0.000   \n",
       "2    53     Madison          Madison            0.846154           0.000   \n",
       "3    54     Madison          Madison            0.916667           0.000   \n",
       "4    55     Madison          Madison            0.700000           0.000   \n",
       "5    56     Madison          Madison            0.777778           0.000   \n",
       "6    57     Madison          Madison            0.857143           0.000   \n",
       "7    58     Madison          Madison            0.833333           0.000   \n",
       "8    62     Madison          Madison            0.846154           0.000   \n",
       "9    63     Madison          Madison            0.692308           0.000   \n",
       "10   64         Jay         Hamilton            0.375000           0.125   \n",
       "11   67    Hamilton         Hamilton            0.166667           0.000   \n",
       "12   68    Hamilton         Hamilton            0.000000           0.000   \n",
       "13   69    Hamilton         Hamilton            0.071429           0.000   \n",
       "14   70    Hamilton         Hamilton            0.200000           0.000   \n",
       "15   71    Hamilton         Hamilton            0.285714           0.000   \n",
       "16   72    Hamilton         Hamilton            0.250000           0.000   \n",
       "17   73    Hamilton         Hamilton            0.090909           0.000   \n",
       "18   74    Hamilton         Hamilton            0.000000           0.000   \n",
       "19   75    Hamilton         Hamilton            0.000000           0.000   \n",
       "20   76    Hamilton         Hamilton            0.222222           0.000   \n",
       "21   77    Hamilton         Hamilton            0.100000           0.000   \n",
       "22   78    Hamilton         Hamilton            0.384615           0.000   \n",
       "23   79    Hamilton         Hamilton            0.333333           0.000   \n",
       "24   80    Hamilton         Hamilton            0.357143           0.000   \n",
       "25   81    Hamilton         Hamilton            0.111111           0.000   \n",
       "26   82    Hamilton         Hamilton            0.142857           0.000   \n",
       "27   83    Hamilton         Hamilton            0.166667           0.000   \n",
       "28   84    Hamilton         Hamilton            0.476190           0.000   \n",
       "29   85    Hamilton         Hamilton            0.076923           0.000   \n",
       "\n",
       "    Hamilton confidence  \n",
       "0              0.200000  \n",
       "1              0.272727  \n",
       "2              0.153846  \n",
       "3              0.083333  \n",
       "4              0.300000  \n",
       "5              0.222222  \n",
       "6              0.142857  \n",
       "7              0.166667  \n",
       "8              0.153846  \n",
       "9              0.307692  \n",
       "10             0.500000  \n",
       "11             0.833333  \n",
       "12             1.000000  \n",
       "13             0.928571  \n",
       "14             0.800000  \n",
       "15             0.714286  \n",
       "16             0.750000  \n",
       "17             0.909091  \n",
       "18             1.000000  \n",
       "19             1.000000  \n",
       "20             0.777778  \n",
       "21             0.900000  \n",
       "22             0.615385  \n",
       "23             0.666667  \n",
       "24             0.642857  \n",
       "25             0.888889  \n",
       "26             0.857143  \n",
       "27             0.833333  \n",
       "28             0.523810  \n",
       "29             0.923077  "
      ]
     },
     "execution_count": 76,
     "metadata": {},
     "output_type": "execute_result"
    }
   ],
   "source": [
    "df_doc_test_predictions = pd.DataFrame(final_prediction_dict)\n",
    "df_doc_test_predictions"
   ]
  },
  {
   "cell_type": "code",
   "execution_count": 77,
   "metadata": {},
   "outputs": [],
   "source": [
    "df_doc_test_predictions.to_csv(\"../processed_data/doc_test_predictions.csv\", index=False)"
   ]
  }
 ],
 "metadata": {
  "kernelspec": {
   "display_name": "Python 3",
   "language": "python",
   "name": "python3"
  },
  "language_info": {
   "codemirror_mode": {
    "name": "ipython",
    "version": 3
   },
   "file_extension": ".py",
   "mimetype": "text/x-python",
   "name": "python",
   "nbconvert_exporter": "python",
   "pygments_lexer": "ipython3",
   "version": "3.6.8"
  }
 },
 "nbformat": 4,
 "nbformat_minor": 2
}
