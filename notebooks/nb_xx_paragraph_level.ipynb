{
 "cells": [
  {
   "cell_type": "code",
   "execution_count": 1,
   "metadata": {},
   "outputs": [],
   "source": [
    "import requests\n",
    "from bs4 import BeautifulSoup\n",
    "import pandas as pd\n",
    "pd.set_option('chained_assignment',None)"
   ]
  },
  {
   "cell_type": "code",
   "execution_count": 2,
   "metadata": {},
   "outputs": [],
   "source": [
    "def get_soup_from_url(url):\n",
    "    \"\"\"\n",
    "    Query a given url and return the page content as BeautifulSoup object.\n",
    "    Parameters:\n",
    "        url: the url to be scraped\n",
    "    Returns:\n",
    "        soup: a BeautifulSoup object\n",
    "    \"\"\"\n",
    "    page = requests.get(url)\n",
    "    soup = BeautifulSoup(page.content, 'html.parser')\n",
    "    return soup"
   ]
  },
  {
   "cell_type": "markdown",
   "metadata": {},
   "source": [
    "### script to extract at paragraph level"
   ]
  },
  {
   "cell_type": "code",
   "execution_count": 3,
   "metadata": {
    "scrolled": true
   },
   "outputs": [],
   "source": [
    "url = \"https://www.congress.gov/resources/display/content/The+Federalist+Papers\"\n",
    "soup = get_soup_from_url(url)\n",
    "\n",
    "elements = soup.find(\"div\", {\"class\":\"wiki-content\"}).findAll('p')\n",
    "start, stop = [], []\n",
    "text_collector = []\n",
    "i = 0\n",
    "for element in elements:\n",
    "    text = ''.join(element.findAll(text = True))\n",
    "    text_collector.append(text)\n",
    "    if 'To the People of the State of New York:' in text:\n",
    "        start.append(i)\n",
    "    elif 'Back to Top' in text:\n",
    "        stop.append(i)\n",
    "    i+=1\n",
    "    \n",
    "df_text = pd.DataFrame(text_collector)\n",
    "df_text.columns = ['Text']\n",
    "\n",
    "all_para_dfs = []\n",
    "for idx in zip(start,stop):\n",
    "    sub_df = df_text.iloc[idx[0]:idx[1],:]\n",
    "    #mask = sub_df['Text'].apply(lambda x: x.split()[0] != 'PUBLIUS.')    \n",
    "    mask1 = sub_df['Text'].apply(lambda x: x.split()[0] != 'PUBLIUS.' and \n",
    "                            x.split()[0][0] not in ['1','2','3','4','5','6','7','8','9'])\n",
    "    mask2 = sub_df['Text'].apply(lambda x: x.split()[0][0] in ['1','2','3','4','5','6','7','8','9'])\n",
    "    body_df = sub_df[mask1]\n",
    "    notes_df = sub_df[mask2]\n",
    "    publius_df = pd.DataFrame({'Text':['PUBLIUS.']})\n",
    "    para_df = pd.concat([body_df, publius_df, notes_df]).reset_index().drop(['index'], axis=1)\n",
    "    #display(para_df)\n",
    "    all_para_dfs.append(para_df)"
   ]
  },
  {
   "cell_type": "markdown",
   "metadata": {},
   "source": [
    "### Import federalist df"
   ]
  },
  {
   "cell_type": "code",
   "execution_count": 4,
   "metadata": {},
   "outputs": [
    {
     "data": {
      "text/html": [
       "<div>\n",
       "<style scoped>\n",
       "    .dataframe tbody tr th:only-of-type {\n",
       "        vertical-align: middle;\n",
       "    }\n",
       "\n",
       "    .dataframe tbody tr th {\n",
       "        vertical-align: top;\n",
       "    }\n",
       "\n",
       "    .dataframe thead th {\n",
       "        text-align: right;\n",
       "    }\n",
       "</style>\n",
       "<table border=\"1\" class=\"dataframe\">\n",
       "  <thead>\n",
       "    <tr style=\"text-align: right;\">\n",
       "      <th></th>\n",
       "      <th>No.</th>\n",
       "      <th>Title</th>\n",
       "      <th>Author</th>\n",
       "      <th>Publication</th>\n",
       "      <th>Date</th>\n",
       "      <th>Text</th>\n",
       "      <th>Length</th>\n",
       "    </tr>\n",
       "  </thead>\n",
       "  <tbody>\n",
       "    <tr>\n",
       "      <th>0</th>\n",
       "      <td>1</td>\n",
       "      <td>General Introduction</td>\n",
       "      <td>Hamilton</td>\n",
       "      <td>For the Independent Journal</td>\n",
       "      <td>- -</td>\n",
       "      <td>AFTER an unequivocal experience of the ineffic...</td>\n",
       "      <td>9280</td>\n",
       "    </tr>\n",
       "    <tr>\n",
       "      <th>1</th>\n",
       "      <td>2</td>\n",
       "      <td>Concerning Dangers from Foreign Force and Infl...</td>\n",
       "      <td>Jay</td>\n",
       "      <td>For the Independent Journal</td>\n",
       "      <td>- -</td>\n",
       "      <td>WHEN the people of America reflect that they a...</td>\n",
       "      <td>10004</td>\n",
       "    </tr>\n",
       "    <tr>\n",
       "      <th>2</th>\n",
       "      <td>3</td>\n",
       "      <td>The Same Subject Continued: Concerning Dangers...</td>\n",
       "      <td>Jay</td>\n",
       "      <td>For the Independent Journal</td>\n",
       "      <td>- -</td>\n",
       "      <td>IT IS not a new observation that the people of...</td>\n",
       "      <td>8651</td>\n",
       "    </tr>\n",
       "    <tr>\n",
       "      <th>3</th>\n",
       "      <td>4</td>\n",
       "      <td>The Same Subject Continued: Concerning Dangers...</td>\n",
       "      <td>Jay</td>\n",
       "      <td>For the Independent Journal</td>\n",
       "      <td>- -</td>\n",
       "      <td>MY LAST paper assigned several reasons why the...</td>\n",
       "      <td>9621</td>\n",
       "    </tr>\n",
       "    <tr>\n",
       "      <th>4</th>\n",
       "      <td>5</td>\n",
       "      <td>The Same Subject Continued: Concerning Dangers...</td>\n",
       "      <td>Jay</td>\n",
       "      <td>For the Independent Journal</td>\n",
       "      <td>- -</td>\n",
       "      <td>QUEEN ANNE, in her letter of the 1st July, 170...</td>\n",
       "      <td>8176</td>\n",
       "    </tr>\n",
       "  </tbody>\n",
       "</table>\n",
       "</div>"
      ],
      "text/plain": [
       "   No.                                              Title    Author  \\\n",
       "0    1                               General Introduction  Hamilton   \n",
       "1    2  Concerning Dangers from Foreign Force and Infl...       Jay   \n",
       "2    3  The Same Subject Continued: Concerning Dangers...       Jay   \n",
       "3    4  The Same Subject Continued: Concerning Dangers...       Jay   \n",
       "4    5  The Same Subject Continued: Concerning Dangers...       Jay   \n",
       "\n",
       "                   Publication Date  \\\n",
       "0  For the Independent Journal  - -   \n",
       "1  For the Independent Journal  - -   \n",
       "2  For the Independent Journal  - -   \n",
       "3  For the Independent Journal  - -   \n",
       "4  For the Independent Journal  - -   \n",
       "\n",
       "                                                Text  Length  \n",
       "0  AFTER an unequivocal experience of the ineffic...    9280  \n",
       "1  WHEN the people of America reflect that they a...   10004  \n",
       "2  IT IS not a new observation that the people of...    8651  \n",
       "3  MY LAST paper assigned several reasons why the...    9621  \n",
       "4  QUEEN ANNE, in her letter of the 1st July, 170...    8176  "
      ]
     },
     "execution_count": 4,
     "metadata": {},
     "output_type": "execute_result"
    }
   ],
   "source": [
    "df_fed = pd.read_csv('../raw_data/federalist.csv')\n",
    "df_fed[\"No.\"] = pd.to_numeric(df_fed[\"No.\"], downcast='integer')\n",
    "df_fed.head()"
   ]
  },
  {
   "cell_type": "code",
   "execution_count": 5,
   "metadata": {},
   "outputs": [],
   "source": [
    "no_list = []\n",
    "title_list = []\n",
    "author_list = []\n",
    "paragaph_list = []\n",
    "\n",
    "i = 0\n",
    "for para_df in all_para_dfs:\n",
    "    # get values\n",
    "    num_paragraph = para_df.shape[0]\n",
    "    no = [df_fed['No.'][i]]*num_paragraph\n",
    "    title = [df_fed['Title'][i]]*num_paragraph\n",
    "    author = [df_fed['Author'][i]]*num_paragraph\n",
    "    # extend lists\n",
    "    no_list.extend(no)\n",
    "    title_list.extend(title)\n",
    "    author_list.extend(author)\n",
    "    paragaph_list.extend(list(para_df['Text']))    \n",
    "    i+=1\n",
    "    \n",
    "fed_para_dict = {'No.':no_list,'Title':title_list,'Author':author_list,'ParaText':paragaph_list}\n",
    "df_fed_paragaph = pd.DataFrame(fed_para_dict)\n",
    "df_fed_paragaph.head()\n",
    "\n",
    "### save dataframe\n",
    "df_fed_paragaph.to_csv(\"../processed_data/fed_paragraphs.csv\", index=False)"
   ]
  }
 ],
 "metadata": {
  "kernelspec": {
   "display_name": "Python 3",
   "language": "python",
   "name": "python3"
  },
  "language_info": {
   "codemirror_mode": {
    "name": "ipython",
    "version": 3
   },
   "file_extension": ".py",
   "mimetype": "text/x-python",
   "name": "python",
   "nbconvert_exporter": "python",
   "pygments_lexer": "ipython3",
   "version": "3.6.8"
  }
 },
 "nbformat": 4,
 "nbformat_minor": 2
}
