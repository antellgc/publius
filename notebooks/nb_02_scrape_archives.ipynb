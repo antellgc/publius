{
 "cells": [
  {
   "cell_type": "markdown",
   "metadata": {},
   "source": [
    "# Notebook 02 - Scrape Archives"
   ]
  },
  {
   "cell_type": "code",
   "execution_count": 74,
   "metadata": {},
   "outputs": [],
   "source": [
    "%matplotlib inline\n",
    "\n",
    "import pandas as pd\n",
    "pd.set_option('chained_assignment',None)\n",
    "import numpy as np\n",
    "from collections import Counter\n",
    "import requests\n",
    "from bs4 import BeautifulSoup\n",
    "import matplotlib.pyplot as plt"
   ]
  },
  {
   "cell_type": "markdown",
   "metadata": {},
   "source": [
    "### Seven Founding Fathers"
   ]
  },
  {
   "cell_type": "code",
   "execution_count": 79,
   "metadata": {},
   "outputs": [],
   "source": [
    "# Seven Founding Fathers\n",
    "\n",
    "# Washington, George (32,192)\n",
    "# Jefferson, Thomas (20,249)\n",
    "# Franklin, Benjamin (4,722)\n",
    "# Hamilton, Alexander (7,648)\n",
    "# Adams, John (10,364)\n",
    "# Madison, James (8,497)\n",
    "# Jay, John (546)\n",
    "\n",
    "washington_count = 32192\n",
    "adams_count = 10364\n",
    "jefferson_count = 20249\n",
    "franklin_count = 4722\n",
    "hamilton_count = 7648\n",
    "madison_count = 8497\n",
    "jay_count = 546\n",
    "\n",
    "washington_url = \"https://founders.archives.gov/?q=%20Author%3A%22Washington%2C%20George%22&s=1111311111&r=\"\n",
    "adams_url = \"https://founders.archives.gov/?q=%20Author%3A%22Adams%2C%20John%22&s=1111311111&r=\"\n",
    "jefferson_url = \"https://founders.archives.gov/?q=%20Author%3A%22Jefferson%2C%20Thomas%22&s=1111311111&r=\"\n",
    "franklin_url = \"https://founders.archives.gov/?q=%20Author%3A%22Franklin%2C%20Benjamin%22&s=1111311111&r=\"\n",
    "hamilton_url = \"https://founders.archives.gov/?q=%20Author%3A%22Hamilton%2C%20Alexander%22&s=1111211111&r=\"\n",
    "madison_url = \"https://founders.archives.gov/?q=%20Author%3A%22Madison%2C%20James%22&s=1111311111&r=\"\n",
    "jay_url = \"https://founders.archives.gov/?q=%20Author%3A%22Jay%2C%20John%22&s=1111311111&r=\"\n",
    "\n",
    "archive_url_dict = {'Washington':washington_url,\n",
    "                   'Adams':adams_url,\n",
    "                   'Jefferson':jefferson_url,\n",
    "                   'Franklin':franklin_url,\n",
    "                   'Hamilton':hamilton_url,\n",
    "                   'Madison':madison_url,\n",
    "                   'Jay':jay_url}\n",
    "\n",
    "archive_count_dict = {'Adams'}"
   ]
  },
  {
   "cell_type": "code",
   "execution_count": 76,
   "metadata": {},
   "outputs": [],
   "source": [
    "def extract_authors(soup):\n",
    "    authors = []\n",
    "    for element in soup.select('dl dd a'):\n",
    "        element_type = element['href'].split('/')[2].split('%')[0]\n",
    "        if element_type == 'Author':\n",
    "            authors.append(element.get_text())\n",
    "    return authors\n",
    "\n",
    "def extract_title(soup):\n",
    "    \"\"\"parses the header and title information\"\"\"\n",
    "    title = soup.find_all(\"h1\", class_=\"title\")[0].getText()\n",
    "    return title"
   ]
  },
  {
   "cell_type": "code",
   "execution_count": 82,
   "metadata": {},
   "outputs": [
    {
     "name": "stdout",
     "output_type": "stream",
     "text": [
      "425\n"
     ]
    }
   ],
   "source": [
    "url = \"https://founders.archives.gov/?q=%20Author%3A%22Jay%2C%20John%22&s=1121311121&r=\"\n",
    "\n",
    "tally = 0\n",
    "for i in range(1,546+1):\n",
    "    doc_url = url + str(i)\n",
    "    page = requests.get(doc_url)\n",
    "    soup = BeautifulSoup(page.content, 'html.parser')\n",
    "    title = extract_title(soup)\n",
    "    authors = extract_authors(soup)\n",
    "    if len(authors) == 1:\n",
    "        tally += 1\n",
    "print(tally)"
   ]
  },
  {
   "cell_type": "code",
   "execution_count": 81,
   "metadata": {
    "scrolled": false
   },
   "outputs": [
    {
     "name": "stdout",
     "output_type": "stream",
     "text": [
      "https://founders.archives.gov/?q=%20Author%3A%22Jay%2C%20John%22&s=1121311121&r=70\n",
      "To George Washington from John Jay, 22 February 1779\n",
      "['Jay, John']\n"
     ]
    }
   ],
   "source": [
    "url = \"https://founders.archives.gov/?q=%20Author%3A%22Jay%2C%20John%22&s=1121311121&r=\"\n",
    "i = 70\n",
    "doc_url = url + str(i)\n",
    "page = requests.get(doc_url)\n",
    "soup = BeautifulSoup(page.content, 'html.parser')\n",
    "title = extract_title(soup)\n",
    "authors = extract_authors(soup)\n",
    "\n",
    "print(doc_url)\n",
    "print(title)\n",
    "print(authors)"
   ]
  },
  {
   "cell_type": "code",
   "execution_count": 6,
   "metadata": {},
   "outputs": [],
   "source": [
    "\n",
    "# parses the text information\n",
    "def text_body_parser(url):\n",
    "    \"\"\"parses the text body information\"\"\"\n",
    "    page = requests.get(url)\n",
    "    soup = BeautifulSoup(page.content, 'html.parser')\n",
    "    # get opener and closer text\n",
    "    open_block = soup.find_all(\"div\", class_=\"opener\")\n",
    "    opener = open_block[0].getText()\n",
    "    close_block = soup.find_all(\"div\", class_=\"closer\")\n",
    "    closer = close_block[0].getText()\n",
    "    # get body text\n",
    "    text_block = soup.find_all(\"div\", class_=\"innerdiv docbody\")\n",
    "    text_body = text_block[0].getText()\n",
    "    # remove opener and closer from the body of text\n",
    "    text_body = text_body.replace(opener,'')\n",
    "    text_body = text_body.replace(closer,'').strip()\n",
    "    return(text_body)"
   ]
  },
  {
   "cell_type": "code",
   "execution_count": null,
   "metadata": {},
   "outputs": [],
   "source": [
    "gw_base_url = \"https://founders.archives.gov/?q=Author%3A%22Washington%2C%20George%22%20Dates-From%3A1764-01-01%20Dates-To%3A1787-09-30&s=1221311113&sa=&r=\"\n",
    "\n",
    "gw_urls = []\n",
    "for i in range(1,23542):\n",
    "    suffix_string = str(i) + \"&sr=\"\n",
    "    gw_entry_url = gw_base_url + suffix_string\n",
    "    gw_urls.append(gw_entry_url)\n",
    "    \n",
    "print(len(gw_urls))"
   ]
  },
  {
   "cell_type": "code",
   "execution_count": null,
   "metadata": {},
   "outputs": [],
   "source": [
    "gw_titles = []\n",
    "gw_keep_urls = []\n",
    "\n",
    "for gw_url in gw_urls:\n",
    "    title = extract_title(gw_url)\n",
    "    if \"George Washington\" in title:\n",
    "        gw_titles.append(title)\n",
    "        gw_keep_urls.append(gw_url)\n",
    "        \n",
    "print(len(gw_titles))\n",
    "print(len(gw_keep_urls))"
   ]
  }
 ],
 "metadata": {
  "kernelspec": {
   "display_name": "Python 3",
   "language": "python",
   "name": "python3"
  },
  "language_info": {
   "codemirror_mode": {
    "name": "ipython",
    "version": 3
   },
   "file_extension": ".py",
   "mimetype": "text/x-python",
   "name": "python",
   "nbconvert_exporter": "python",
   "pygments_lexer": "ipython3",
   "version": "3.6.8"
  }
 },
 "nbformat": 4,
 "nbformat_minor": 2
}
