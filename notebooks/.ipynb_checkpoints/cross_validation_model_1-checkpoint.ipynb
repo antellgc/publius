{
 "cells": [
  {
   "cell_type": "markdown",
   "metadata": {},
   "source": [
    "### Import requirements"
   ]
  },
  {
   "cell_type": "code",
   "execution_count": 6,
   "metadata": {},
   "outputs": [],
   "source": [
    "%matplotlib inline\n",
    "\n",
    "import pandas as pd\n",
    "pd.set_option('chained_assignment',None)\n",
    "import numpy as np\n",
    "import itertools\n",
    "from collections import Counter\n",
    "import requests\n",
    "from bs4 import BeautifulSoup\n",
    "import matplotlib.pyplot as plt\n",
    "\n",
    "import re\n",
    "import string\n",
    "import codecs\n",
    "from nltk.corpus import stopwords"
   ]
  },
  {
   "cell_type": "code",
   "execution_count": null,
   "metadata": {},
   "outputs": [],
   "source": [
    "# model prep and evaluation\n",
    "#from sklearn.model_selection import train_test_split, StratifiedKFold\n",
    "#from sklearn.feature_extraction.text import CountVectorizer, TfidfVectorizer\n",
    "#from sklearn.metrics import accuracy_score, f1_score, precision_score, recall_score \n",
    "#from sklearn.metrics import confusion_matrix, classification_report\n",
    "\n",
    "# machine learning algorithms\n",
    "#from sklearn.naive_bayes import MultinomialNB\n",
    "#from sklearn.linear_model import LogisticRegression\n",
    "#from sklearn.ensemble import GradientBoostingClassifier"
   ]
  },
  {
   "cell_type": "markdown",
   "metadata": {},
   "source": [
    "### Helper functions"
   ]
  },
  {
   "cell_type": "code",
   "execution_count": 2,
   "metadata": {},
   "outputs": [],
   "source": [
    "def standardize_text(df, text_field):\n",
    "    df[text_field] = df[text_field].str.replace(r\"http\\S+\", \"\")\n",
    "    df[text_field] = df[text_field].str.replace(r\"http\", \"\")\n",
    "    df[text_field] = df[text_field].str.replace(r\"@\\S+\", \"\")\n",
    "    df[text_field] = df[text_field].str.replace(r\"[^A-Za-z0-9(),!?@\\'\\`\\\"\\_\\n]\", \" \")\n",
    "    df[text_field] = df[text_field].str.replace(r\"@\", \"at\")\n",
    "    df[text_field] = df[text_field].str.lower()\n",
    "    return df\n",
    "\n",
    "def plot_confusion_matrix(cm, classes, normalize=False, cmap=plt.cm.Blues):\n",
    "    \"\"\"\n",
    "    This function prints and plots the confusion matrix.\n",
    "    Normalization can be applied by setting `normalize=True`.\n",
    "    \"\"\"\n",
    "    if normalize:\n",
    "        cm = cm.astype('float') / cm.sum(axis=1)[:, np.newaxis]\n",
    "    plt.imshow(cm, interpolation='nearest', cmap=cmap)\n",
    "    plt.colorbar()\n",
    "    tick_marks = np.arange(len(classes))\n",
    "    plt.xticks(tick_marks, classes, rotation=45)\n",
    "    plt.yticks(tick_marks, classes)\n",
    "    fmt = '.2f' if normalize else 'd'\n",
    "    thresh = cm.max() / 2.\n",
    "    for i, j in itertools.product(range(cm.shape[0]), range(cm.shape[1])):\n",
    "        plt.text(j, i, format(cm[i, j], fmt),\n",
    "                 horizontalalignment=\"center\",\n",
    "                 color=\"white\" if cm[i, j] > thresh else \"black\")\n",
    "    plt.ylabel('True label')\n",
    "    plt.xlabel('Predicted label')\n",
    "    plt.tight_layout()"
   ]
  },
  {
   "cell_type": "markdown",
   "metadata": {},
   "source": [
    "### Import data"
   ]
  },
  {
   "cell_type": "code",
   "execution_count": 4,
   "metadata": {},
   "outputs": [
    {
     "data": {
      "text/html": [
       "<div>\n",
       "<style scoped>\n",
       "    .dataframe tbody tr th:only-of-type {\n",
       "        vertical-align: middle;\n",
       "    }\n",
       "\n",
       "    .dataframe tbody tr th {\n",
       "        vertical-align: top;\n",
       "    }\n",
       "\n",
       "    .dataframe thead th {\n",
       "        text-align: right;\n",
       "    }\n",
       "</style>\n",
       "<table border=\"1\" class=\"dataframe\">\n",
       "  <thead>\n",
       "    <tr style=\"text-align: right;\">\n",
       "      <th></th>\n",
       "      <th>Text</th>\n",
       "      <th>Author</th>\n",
       "    </tr>\n",
       "  </thead>\n",
       "  <tbody>\n",
       "    <tr>\n",
       "      <th>0</th>\n",
       "      <td>AFTER an unequivocal experience of the ineffic...</td>\n",
       "      <td>Hamilton</td>\n",
       "    </tr>\n",
       "    <tr>\n",
       "      <th>1</th>\n",
       "      <td>WHEN the people of America reflect that they a...</td>\n",
       "      <td>Jay</td>\n",
       "    </tr>\n",
       "    <tr>\n",
       "      <th>2</th>\n",
       "      <td>IT IS not a new observation that the people of...</td>\n",
       "      <td>Jay</td>\n",
       "    </tr>\n",
       "    <tr>\n",
       "      <th>3</th>\n",
       "      <td>MY LAST paper assigned several reasons why the...</td>\n",
       "      <td>Jay</td>\n",
       "    </tr>\n",
       "    <tr>\n",
       "      <th>4</th>\n",
       "      <td>QUEEN ANNE, in her letter of the 1st July, 170...</td>\n",
       "      <td>Jay</td>\n",
       "    </tr>\n",
       "  </tbody>\n",
       "</table>\n",
       "</div>"
      ],
      "text/plain": [
       "                                                Text    Author\n",
       "0  AFTER an unequivocal experience of the ineffic...  Hamilton\n",
       "1  WHEN the people of America reflect that they a...       Jay\n",
       "2  IT IS not a new observation that the people of...       Jay\n",
       "3  MY LAST paper assigned several reasons why the...       Jay\n",
       "4  QUEEN ANNE, in her letter of the 1st July, 170...       Jay"
      ]
     },
     "execution_count": 4,
     "metadata": {},
     "output_type": "execute_result"
    }
   ],
   "source": [
    "df_fed = pd.read_csv(\"../raw_data/federalist.csv\")[[\"Text\",\"Author\"]]\n",
    "df_fed.head()"
   ]
  },
  {
   "cell_type": "markdown",
   "metadata": {},
   "source": [
    "### Pre-processing"
   ]
  },
  {
   "cell_type": "code",
   "execution_count": 5,
   "metadata": {},
   "outputs": [
    {
     "data": {
      "text/html": [
       "<div>\n",
       "<style scoped>\n",
       "    .dataframe tbody tr th:only-of-type {\n",
       "        vertical-align: middle;\n",
       "    }\n",
       "\n",
       "    .dataframe tbody tr th {\n",
       "        vertical-align: top;\n",
       "    }\n",
       "\n",
       "    .dataframe thead th {\n",
       "        text-align: right;\n",
       "    }\n",
       "</style>\n",
       "<table border=\"1\" class=\"dataframe\">\n",
       "  <thead>\n",
       "    <tr style=\"text-align: right;\">\n",
       "      <th></th>\n",
       "      <th>Text</th>\n",
       "      <th>Author</th>\n",
       "    </tr>\n",
       "  </thead>\n",
       "  <tbody>\n",
       "    <tr>\n",
       "      <th>0</th>\n",
       "      <td>after an unequivocal experience of the ineffic...</td>\n",
       "      <td>Hamilton</td>\n",
       "    </tr>\n",
       "    <tr>\n",
       "      <th>1</th>\n",
       "      <td>when the people of america reflect that they a...</td>\n",
       "      <td>Jay</td>\n",
       "    </tr>\n",
       "    <tr>\n",
       "      <th>2</th>\n",
       "      <td>it is not a new observation that the people of...</td>\n",
       "      <td>Jay</td>\n",
       "    </tr>\n",
       "    <tr>\n",
       "      <th>3</th>\n",
       "      <td>my last paper assigned several reasons why the...</td>\n",
       "      <td>Jay</td>\n",
       "    </tr>\n",
       "    <tr>\n",
       "      <th>4</th>\n",
       "      <td>queen anne, in her letter of the 1st july, 170...</td>\n",
       "      <td>Jay</td>\n",
       "    </tr>\n",
       "  </tbody>\n",
       "</table>\n",
       "</div>"
      ],
      "text/plain": [
       "                                                Text    Author\n",
       "0  after an unequivocal experience of the ineffic...  Hamilton\n",
       "1  when the people of america reflect that they a...       Jay\n",
       "2  it is not a new observation that the people of...       Jay\n",
       "3  my last paper assigned several reasons why the...       Jay\n",
       "4  queen anne, in her letter of the 1st july, 170...       Jay"
      ]
     },
     "execution_count": 5,
     "metadata": {},
     "output_type": "execute_result"
    }
   ],
   "source": [
    "df_fed_standardized = standardize_text(df_fed, \"Text\")\n",
    "df_fed_standardized.head()"
   ]
  },
  {
   "cell_type": "markdown",
   "metadata": {},
   "source": [
    "### Bag of words cross-validation"
   ]
  },
  {
   "cell_type": "code",
   "execution_count": 19,
   "metadata": {},
   "outputs": [],
   "source": [
    "from sklearn.model_selection import StratifiedKFold\n",
    "from sklearn.feature_extraction.text import CountVectorizer, TfidfTransformer"
   ]
  },
  {
   "cell_type": "code",
   "execution_count": 20,
   "metadata": {},
   "outputs": [
    {
     "name": "stdout",
     "output_type": "stream",
     "text": [
      "StratifiedKFold(n_splits=5, random_state=None, shuffle=False)\n",
      "0     after an unequivocal experience of the ineffic...\n",
      "1     when the people of america reflect that they a...\n",
      "5     the three last numbers of this paper have been...\n",
      "6     it is sometimes asked, with an air of seeming ...\n",
      "7     assuming it therefore as an established truth ...\n",
      "8     a firm union will be of the utmost moment to t...\n",
      "9     among the numerous advantages promised by a we...\n",
      "10    the importance of the union, in a commercial l...\n",
      "11    the effects of union upon the commercial prosp...\n",
      "12    as connected with the subject of revenue, we m...\n",
      "13    we have seen the necessity of the union, as ou...\n",
      "14    in the course of the preceding papers, i have ...\n",
      "15    the tendency of the principle of legislation f...\n",
      "16    an objection, of a nature different from that ...\n",
      "17    among the confederacies of antiquity, the most...\n",
      "18    the examples of ancient confederacies, cited i...\n",
      "19    the united netherlands are a confederacy of re...\n",
      "36    in reviewing the defects of the existing confe...\n",
      "Name: Text, dtype: object\n",
      "2     it is not a new observation that the people of...\n",
      "20    having in the three last numbers taken a summa...\n",
      "21    in addition to the defects already enumerated ...\n",
      "22    the necessity of a constitution, at least equa...\n",
      "23    to the powers proposed to be conferred upon th...\n",
      "24    it may perhaps be urged that the objects enume...\n",
      "25    it was a thing hardly to be expected that in a...\n",
      "26    it has been urged, in different shapes, that a...\n",
      "27    that there may happen cases in which the natio...\n",
      "28    the power of regulating the militia, and of co...\n",
      "29    it has been already observed that the federal ...\n",
      "37    it is not a little remarkable that in every ca...\n",
      "38    the last paper having concluded the observatio...\n",
      "39    the second point to be examined is, whether th...\n",
      "40    the constitution proposed by the convention ma...\n",
      "41    the second class of powers, lodged in the gene...\n",
      "42    the fourth class comprises the following misce...\n",
      "Name: Text, dtype: object\n",
      "3     my last paper assigned several reasons why the...\n",
      "30    in disquisitions of every kind, there are cert...\n",
      "31    although i am of opinion that there would be n...\n",
      "32    the residue of the argument against the provis...\n",
      "33    i flatter myself it has been clearly shown in ...\n",
      "34    before we proceed to examine any other objecti...\n",
      "35    we have seen that the result of the observatio...\n",
      "43    a fifth class of provisions in favor of the fe...\n",
      "44    having shown that no one of the powers transfe...\n",
      "45    resuming the subject of the last paper, i proc...\n",
      "46    having reviewed the general form of the propos...\n",
      "47    it was shown in the last paper that the politi...\n",
      "48    the author of the \"notes on the state of virgi...\n",
      "58    the natural order of the subject leads us to c...\n",
      "59    we have seen, that an uncontrollable power ove...\n",
      "60    the more candid opposers of the provision resp...\n",
      "64    the remaining powers which the plan of the con...\n",
      "Name: Text, dtype: object\n",
      "4     queen anne, in her letter of the 1st july, 170...\n",
      "49    it may be contended, perhaps, that instead of ...\n",
      "50    to what expedient, then, shall we finally reso...\n",
      "51    from the more general inquiries pursued in the...\n",
      "52    i shall here, perhaps, be reminded of a curren...\n",
      "53    the next view which i shall take of the house ...\n",
      "54    the number of which the house of representativ...\n",
      "65    a review of the principal objections that have...\n",
      "66    the constitution of the executive department o...\n",
      "67    the mode of appointment of the chief magistrat...\n",
      "68    i proceed now to trace the real characters of ...\n",
      "69    there is an idea, which is not without its adv...\n",
      "70    duration in office has been mentioned as the s...\n",
      "71    the administration of government, in its large...\n",
      "72    the third ingredient towards constituting the ...\n",
      "73    the president of the united states is to be \"c...\n",
      "74    the president is to have power, \"by and with t...\n",
      "Name: Text, dtype: object\n",
      "55    the second charge against the house of represe...\n",
      "56    the third charge against the house of represen...\n",
      "57    the remaining charge against the house of repr...\n",
      "61    having examined the constitution of the house ...\n",
      "62    a fifth desideratum, illustrating the utility ...\n",
      "63    it is a just and not a new observation, that e...\n",
      "75    the president is \"to nominate, and, by and wit...\n",
      "76    it has been mentioned as one of the advantages...\n",
      "77    we proceed now to an examination of the judici...\n",
      "78    next to permanency in office, nothing can cont...\n",
      "79    to judge with accuracy of the proper extent of...\n",
      "80    let us now return to the partition of the judi...\n",
      "81    the erection of a new government, whatever car...\n",
      "82    the objection to the plan of the convention, w...\n",
      "83    in the course of the foregoing review of the c...\n",
      "84    according to the formal division of the subjec...\n",
      "Name: Text, dtype: object\n"
     ]
    }
   ],
   "source": [
    "X = df_fed_standardized['Text']\n",
    "y = df_fed_standardized['Author']\n",
    "\n",
    "skf = StratifiedKFold(n_splits=5)\n",
    "print(skf)\n",
    "\n",
    "for train_index, test_index in skf.split(X, y):\n",
    "    # creates train and test data for each fold\n",
    "    X_train, X_test = X[train_index], X[test_index]\n",
    "    y_train, y_test = y[train_index], y[test_index]\n",
    "    \n",
    "    # bag of words vectorization\n",
    "    count_vect = CountVectorizer()\n",
    "    X_train_counts = count_vect.fit_transform(twenty_train.data)\n",
    "    X_train_counts.shape\n",
    "    "
   ]
  },
  {
   "cell_type": "code",
   "execution_count": 10,
   "metadata": {},
   "outputs": [
    {
     "name": "stderr",
     "output_type": "stream",
     "text": [
      "/Users/greg/anaconda3/lib/python3.6/site-packages/sklearn/cross_validation.py:41: DeprecationWarning: This module was deprecated in version 0.18 in favor of the model_selection module into which all the refactored classes and functions are moved. Also note that the interface of the new CV iterators are different from that of this module. This module will be removed in 0.20.\n",
      "  \"This module will be removed in 0.20.\", DeprecationWarning)\n"
     ]
    },
    {
     "data": {
      "text/plain": [
       "5"
      ]
     },
     "execution_count": 10,
     "metadata": {},
     "output_type": "execute_result"
    }
   ],
   "source": [
    "from sklearn import cross_validation\n",
    "\n",
    "X = df_fed_standardized['Text']\n",
    "y = df_fed_standardized['Author']\n",
    "\n",
    "skf = cross_validation.StratifiedKFold(y, n_folds=5)\n",
    "len(skf)"
   ]
  },
  {
   "cell_type": "code",
   "execution_count": null,
   "metadata": {},
   "outputs": [],
   "source": [
    "\n",
    "2\n",
    ">>> print(skf)  \n",
    "sklearn.cross_validation.StratifiedKFold(labels=[0 0 1 1], n_folds=2,\n",
    "                                         shuffle=False, random_state=None)\n",
    ">>> for train_index, test_index in skf:\n",
    "...    print(\"TRAIN:\", train_index, \"TEST:\", test_index)\n",
    "...    X_train, X_test = X[train_index], X[test_index]\n",
    "...    y_train, y_test = y[train_index], y[test_index]\n",
    "TRAIN: [1 3] TEST: [0 2]\n",
    "TRAIN: [0 2] TEST: [1 3]"
   ]
  }
 ],
 "metadata": {
  "kernelspec": {
   "display_name": "Python 3",
   "language": "python",
   "name": "python3"
  },
  "language_info": {
   "codemirror_mode": {
    "name": "ipython",
    "version": 3
   },
   "file_extension": ".py",
   "mimetype": "text/x-python",
   "name": "python",
   "nbconvert_exporter": "python",
   "pygments_lexer": "ipython3",
   "version": "3.6.7"
  }
 },
 "nbformat": 4,
 "nbformat_minor": 2
}
