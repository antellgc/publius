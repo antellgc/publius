{
 "cells": [
  {
   "cell_type": "markdown",
   "metadata": {},
   "source": [
    "# Notebook 04 - Preprocessing"
   ]
  },
  {
   "cell_type": "markdown",
   "metadata": {},
   "source": [
    "### Import requirements"
   ]
  },
  {
   "cell_type": "code",
   "execution_count": 44,
   "metadata": {},
   "outputs": [],
   "source": [
    "# natural language processing\n",
    "from sklearn.feature_extraction.text import CountVectorizer\n",
    "from sklearn.feature_extraction.text import TfidfVectorizer\n",
    "\n",
    "# machine learning\n",
    "from sklearn.metrics import confusion_matrix, classification_report\n",
    "from sklearn.naive_bayes import MultinomialNB\n",
    "from sklearn.linear_model import LogisticRegression\n",
    "from sklearn.ensemble import RandomForestClassifier\n",
    "\n",
    "import itertools\n",
    "from collections import Counter\n",
    "import numpy as np\n",
    "import pandas as pd\n",
    "pd.set_option('chained_assignment',None)\n",
    "import matplotlib.pyplot as plt\n",
    "% matplotlib inline"
   ]
  },
  {
   "cell_type": "markdown",
   "metadata": {},
   "source": [
    "### Read in data"
   ]
  },
  {
   "cell_type": "code",
   "execution_count": 6,
   "metadata": {},
   "outputs": [
    {
     "name": "stdout",
     "output_type": "stream",
     "text": [
      "(578, 3)\n",
      "(336, 3)\n"
     ]
    }
   ],
   "source": [
    "df_train_block = pd.read_csv(\"../processed_data/train_blocks.csv\")\n",
    "df_test_block = pd.read_csv(\"../processed_data/test_blocks.csv\")\n",
    "\n",
    "print(df_train_block.shape)\n",
    "print(df_test_block.shape)"
   ]
  },
  {
   "cell_type": "markdown",
   "metadata": {},
   "source": [
    "### Helper functions"
   ]
  },
  {
   "cell_type": "code",
   "execution_count": 22,
   "metadata": {},
   "outputs": [],
   "source": [
    "def standardize_text(dataframe, text_field):\n",
    "    \"\"\"\n",
    "    Standardizes text fields by replacing characters.\n",
    "    Parameters:\n",
    "        dataframe: a dataframe containing a column with text\n",
    "        text_field: the column to standardize\n",
    "    Returns:\n",
    "        dataframe: the same dataframe corrected\n",
    "    \"\"\"\n",
    "    dataframe[text_field] = dataframe[text_field].str.replace(r\"http\\S+\", \"\")\n",
    "    dataframe[text_field] = dataframe[text_field].str.replace(r\"http\", \"\")\n",
    "    dataframe[text_field] = dataframe[text_field].str.replace(r\"@\\S+\", \"\")\n",
    "    dataframe[text_field] = dataframe[text_field].str.replace(r\"[^A-Za-z0-9(),!?@\\'\\`\\\"\\_\\n]\", \" \")\n",
    "    dataframe[text_field] = dataframe[text_field].str.replace(r\"@\", \"at\")\n",
    "    dataframe[text_field] = dataframe[text_field].str.lower()\n",
    "    return dataframe\n",
    "\n",
    "def plot_confusion_matrix(cm, classes, normalize=False, cmap=plt.cm.Blues):\n",
    "    \"\"\"\n",
    "    This function prints and plots the confusion matrix.\n",
    "    Normalization can be applied by setting `normalize=True`.\n",
    "    \"\"\"\n",
    "    if normalize:\n",
    "        cm = cm.astype('float') / cm.sum(axis=1)[:, np.newaxis]\n",
    "    plt.imshow(cm, interpolation='nearest', cmap=cmap)\n",
    "    plt.colorbar()\n",
    "    tick_marks = np.arange(len(classes))\n",
    "    plt.xticks(tick_marks, classes, rotation=45)\n",
    "    plt.yticks(tick_marks, classes)\n",
    "    fmt = '.2f' if normalize else 'd'\n",
    "    thresh = cm.max() / 2.\n",
    "    for i, j in itertools.product(range(cm.shape[0]), range(cm.shape[1])):\n",
    "        plt.text(j, i, format(cm[i, j], fmt),\n",
    "                 horizontalalignment=\"center\",\n",
    "                 color=\"white\" if cm[i, j] > thresh else \"black\")\n",
    "    plt.ylabel('True label')\n",
    "    plt.xlabel('Predicted label')\n",
    "    plt.tight_layout()"
   ]
  },
  {
   "cell_type": "markdown",
   "metadata": {},
   "source": [
    "### Text preprocessing and target selection"
   ]
  },
  {
   "cell_type": "code",
   "execution_count": 41,
   "metadata": {},
   "outputs": [],
   "source": [
    "# clean up text\n",
    "df_train_block_clean = standardize_text(df_train_block, \"Text Block\")\n",
    "df_test_block_clean = standardize_text(df_test_block, \"Text Block\")\n",
    "\n",
    "# select data fields\n",
    "X_train, X_test = df_train_block_clean['Text Block'], df_test_block_clean['Text Block']\n",
    "y_train, y_test = df_train_block_clean['Author'], df_test_block_clean['Author']"
   ]
  },
  {
   "cell_type": "markdown",
   "metadata": {},
   "source": [
    "### Bag of Words"
   ]
  },
  {
   "cell_type": "code",
   "execution_count": 43,
   "metadata": {},
   "outputs": [
    {
     "name": "stdout",
     "output_type": "stream",
     "text": [
      "(578, 7324) (336, 7324)\n"
     ]
    }
   ],
   "source": [
    "# intialize the bag-of-words vectorizer\n",
    "bow_vectorizer = CountVectorizer()\n",
    "\n",
    "# fit and transform the data\n",
    "X_train_bow = bow_vectorizer.fit_transform(X_train)\n",
    "X_test_bow = bow_vectorizer.transform(X_test)\n",
    "\n",
    "print(X_train_bow.shape, X_test_bow.shape)"
   ]
  },
  {
   "cell_type": "markdown",
   "metadata": {},
   "source": [
    "### To do: TF-IDF, Word2Vec, Glove"
   ]
  },
  {
   "cell_type": "markdown",
   "metadata": {},
   "source": [
    "### Naive Bayes"
   ]
  },
  {
   "cell_type": "code",
   "execution_count": 39,
   "metadata": {},
   "outputs": [
    {
     "name": "stdout",
     "output_type": "stream",
     "text": [
      "True value distribution: {'Madison': 107, 'Hamilton': 216, 'Jay': 13}\n",
      "Predicted value distribution: {'Madison': 133, 'Hamilton': 203}\n"
     ]
    },
    {
     "data": {
      "image/png": "[encoded data removed]",
      "text/plain": [
       "<Figure size 432x288 with 2 Axes>"
      ]
     },
     "metadata": {
      "needs_background": "light"
     },
     "output_type": "display_data"
    }
   ],
   "source": [
    "# Naive Bayes model fitting\n",
    "nb = MultinomialNB()\n",
    "nb.fit(X_train_bow, y_train)\n",
    "\n",
    "# prediction\n",
    "y_test_predict = nb.predict(X_test_bow)\n",
    "print('True value distribution:', dict(Counter(y_test)))\n",
    "print('Predicted value distribution:', dict(Counter(y_test_predict)))\n",
    "\n",
    "# confusion matrix plot\n",
    "cnf_matrix = confusion_matrix(y_test, y_test_predict)\n",
    "plot_confusion_matrix(cnf_matrix, classes=['Hamilton','Jay','Madison'], normalize=False)\n",
    "plt.show()"
   ]
  },
  {
   "cell_type": "markdown",
   "metadata": {},
   "source": [
    "### Logistic Regression"
   ]
  },
  {
   "cell_type": "code",
   "execution_count": 53,
   "metadata": {},
   "outputs": [
    {
     "name": "stdout",
     "output_type": "stream",
     "text": [
      "True value distribution: {'Madison': 107, 'Hamilton': 216, 'Jay': 13}\n",
      "Predicted value distribution: {'Madison': 142, 'Hamilton': 190, 'Jay': 4}\n"
     ]
    },
    {
     "data": {
      "image/png": "[encoded data removed]",
      "text/plain": [
       "<Figure size 432x288 with 2 Axes>"
      ]
     },
     "metadata": {
      "needs_background": "light"
     },
     "output_type": "display_data"
    }
   ],
   "source": [
    "# Naive Bayes model fitting\n",
    "lr = LogisticRegression(solver='newton-cg', multi_class='auto', class_weight='balanced')\n",
    "lr.fit(X_train_bow, y_train)\n",
    "\n",
    "# prediction\n",
    "y_test_predict = lr.predict(X_test_bow)\n",
    "print('True value distribution:', dict(Counter(y_test)))\n",
    "print('Predicted value distribution:', dict(Counter(y_test_predict)))\n",
    "\n",
    "# confusion matrix plot\n",
    "cnf_matrix = confusion_matrix(y_test, y_test_predict)\n",
    "plot_confusion_matrix(cnf_matrix, classes=['Hamilton','Jay','Madison'], normalize=False)\n",
    "plt.show()"
   ]
  },
  {
   "cell_type": "markdown",
   "metadata": {},
   "source": [
    "### Random Forest"
   ]
  },
  {
   "cell_type": "code",
   "execution_count": null,
   "metadata": {},
   "outputs": [],
   "source": []
  },
  {
   "cell_type": "markdown",
   "metadata": {},
   "source": [
    "### Document-level predictions"
   ]
  },
  {
   "cell_type": "code",
   "execution_count": null,
   "metadata": {},
   "outputs": [],
   "source": []
  }
 ],
 "metadata": {
  "kernelspec": {
   "display_name": "Python 3",
   "language": "python",
   "name": "python3"
  },
  "language_info": {
   "codemirror_mode": {
    "name": "ipython",
    "version": 3
   },
   "file_extension": ".py",
   "mimetype": "text/x-python",
   "name": "python",
   "nbconvert_exporter": "python",
   "pygments_lexer": "ipython3",
   "version": "3.6.6"
  }
 },
 "nbformat": 4,
 "nbformat_minor": 2
}
