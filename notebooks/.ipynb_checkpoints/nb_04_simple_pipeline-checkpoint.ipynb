{
 "cells": [
  {
   "cell_type": "markdown",
   "metadata": {},
   "source": [
    "# Notebook 04 - Simple Pipeline"
   ]
  },
  {
   "cell_type": "markdown",
   "metadata": {},
   "source": [
    "### Import requirements"
   ]
  },
  {
   "cell_type": "code",
   "execution_count": 1,
   "metadata": {},
   "outputs": [],
   "source": [
    "# natural language processing\n",
    "from sklearn.feature_extraction.text import CountVectorizer\n",
    "from sklearn.feature_extraction.text import TfidfVectorizer\n",
    "\n",
    "# machine learning\n",
    "from sklearn.model_selection import GridSearchCV, cross_val_score, cross_val_predict\n",
    "from sklearn.metrics import confusion_matrix, classification_report\n",
    "from sklearn.naive_bayes import MultinomialNB\n",
    "from sklearn.linear_model import LogisticRegression\n",
    "from sklearn.ensemble import RandomForestClassifier\n",
    "\n",
    "# warnings\n",
    "import warnings\n",
    "warnings.simplefilter(action='ignore', category=FutureWarning)\n",
    "warnings.simplefilter(action='ignore', category=DeprecationWarning)\n",
    "\n",
    "import itertools\n",
    "from collections import Counter\n",
    "import numpy as np\n",
    "import pandas as pd\n",
    "pd.set_option('chained_assignment',None)\n",
    "import matplotlib.pyplot as plt\n",
    "% matplotlib inline"
   ]
  },
  {
   "cell_type": "markdown",
   "metadata": {},
   "source": [
    "### Read in data"
   ]
  },
  {
   "cell_type": "code",
   "execution_count": 2,
   "metadata": {},
   "outputs": [
    {
     "name": "stdout",
     "output_type": "stream",
     "text": [
      "(578, 3)\n",
      "(336, 3)\n"
     ]
    }
   ],
   "source": [
    "df_train_block = pd.read_csv(\"../processed_data/train_blocks.csv\")\n",
    "df_test_block = pd.read_csv(\"../processed_data/test_blocks.csv\")\n",
    "\n",
    "print(df_train_block.shape)\n",
    "print(df_test_block.shape)"
   ]
  },
  {
   "cell_type": "markdown",
   "metadata": {},
   "source": [
    "### Helper functions"
   ]
  },
  {
   "cell_type": "code",
   "execution_count": 3,
   "metadata": {},
   "outputs": [],
   "source": [
    "def standardize_text(dataframe, text_field):\n",
    "    \"\"\"\n",
    "    Standardizes text fields by replacing characters.\n",
    "    Parameters:\n",
    "        dataframe: a dataframe containing a column with text\n",
    "        text_field: the column to standardize\n",
    "    Returns:\n",
    "        dataframe: the same dataframe corrected\n",
    "    \"\"\"\n",
    "    dataframe[text_field] = dataframe[text_field].str.replace(r\"http\\S+\", \"\")\n",
    "    dataframe[text_field] = dataframe[text_field].str.replace(r\"http\", \"\")\n",
    "    dataframe[text_field] = dataframe[text_field].str.replace(r\"@\\S+\", \"\")\n",
    "    dataframe[text_field] = dataframe[text_field].str.replace(r\"[^A-Za-z0-9(),!?@\\'\\`\\\"\\_\\n]\", \" \")\n",
    "    dataframe[text_field] = dataframe[text_field].str.replace(r\"@\", \"at\")\n",
    "    dataframe[text_field] = dataframe[text_field].str.lower()\n",
    "    return dataframe\n",
    "\n",
    "def plot_confusion_matrix(cm, classes, normalize=False, cmap=plt.cm.Blues):\n",
    "    \"\"\"\n",
    "    This function prints and plots the confusion matrix.\n",
    "    Normalization can be applied by setting `normalize=True`.\n",
    "    \"\"\"\n",
    "    if normalize:\n",
    "        cm = cm.astype('float') / cm.sum(axis=1)[:, np.newaxis]\n",
    "    plt.imshow(cm, interpolation='nearest', cmap=cmap)\n",
    "    plt.colorbar()\n",
    "    tick_marks = np.arange(len(classes))\n",
    "    plt.xticks(tick_marks, classes, rotation=45)\n",
    "    plt.yticks(tick_marks, classes)\n",
    "    fmt = '.2f' if normalize else 'd'\n",
    "    thresh = cm.max() / 2.\n",
    "    for i, j in itertools.product(range(cm.shape[0]), range(cm.shape[1])):\n",
    "        plt.text(j, i, format(cm[i, j], fmt),\n",
    "                 horizontalalignment=\"center\",\n",
    "                 color=\"white\" if cm[i, j] > thresh else \"black\")\n",
    "    plt.ylabel('True label')\n",
    "    plt.xlabel('Predicted label')\n",
    "    plt.tight_layout()"
   ]
  },
  {
   "cell_type": "markdown",
   "metadata": {},
   "source": [
    "### Text preprocessing and target selection"
   ]
  },
  {
   "cell_type": "code",
   "execution_count": 4,
   "metadata": {},
   "outputs": [],
   "source": [
    "# clean up text\n",
    "df_train_block_clean = standardize_text(df_train_block, \"Text Block\")\n",
    "df_test_block_clean = standardize_text(df_test_block, \"Text Block\")\n",
    "\n",
    "# select data fields\n",
    "X_train, X_test = df_train_block_clean['Text Block'], df_test_block_clean['Text Block']\n",
    "y_train, y_test = df_train_block_clean['Author'], df_test_block_clean['Author']"
   ]
  },
  {
   "cell_type": "markdown",
   "metadata": {},
   "source": [
    "### Bag of Words and TF-IDF vectorization"
   ]
  },
  {
   "cell_type": "code",
   "execution_count": 5,
   "metadata": {},
   "outputs": [
    {
     "name": "stdout",
     "output_type": "stream",
     "text": [
      "Bag of Words: (578, 7324) (336, 7324)\n",
      "TF-IDF: (578, 7324) (336, 7324)\n"
     ]
    }
   ],
   "source": [
    "# intialize vectorizers\n",
    "bow_vectorizer = CountVectorizer()\n",
    "tfidf_vectorizer = TfidfVectorizer()\n",
    "\n",
    "# fit and transform the data\n",
    "\n",
    "# bag of words\n",
    "X_train_bow = bow_vectorizer.fit_transform(X_train)\n",
    "X_test_bow = bow_vectorizer.transform(X_test)\n",
    "print(\"Bag of Words:\", X_train_bow.shape, X_test_bow.shape)\n",
    "\n",
    "# tf-idf\n",
    "X_train_tfidf = tfidf_vectorizer.fit_transform(X_train)\n",
    "X_test_tfidf = tfidf_vectorizer.transform(X_test)\n",
    "print(\"TF-IDF:\", X_train_tfidf.shape, X_test_tfidf.shape)"
   ]
  },
  {
   "cell_type": "markdown",
   "metadata": {},
   "source": [
    "### Cross validation parameter search"
   ]
  },
  {
   "cell_type": "code",
   "execution_count": 6,
   "metadata": {},
   "outputs": [
    {
     "name": "stdout",
     "output_type": "stream",
     "text": [
      "Fitting 5 folds for each of 200 candidates, totalling 1000 fits\n"
     ]
    },
    {
     "name": "stderr",
     "output_type": "stream",
     "text": [
      "[Parallel(n_jobs=-1)]: Using backend LokyBackend with 4 concurrent workers.\n",
      "[Parallel(n_jobs=-1)]: Done  42 tasks      | elapsed:    6.0s\n",
      "[Parallel(n_jobs=-1)]: Done 192 tasks      | elapsed:   14.2s\n",
      "[Parallel(n_jobs=-1)]: Done 622 tasks      | elapsed:   51.8s\n",
      "[Parallel(n_jobs=-1)]: Done 972 tasks      | elapsed:  5.8min\n",
      "[Parallel(n_jobs=-1)]: Done 1000 out of 1000 | elapsed:  6.4min finished\n"
     ]
    },
    {
     "name": "stdout",
     "output_type": "stream",
     "text": [
      "Best Solver: saga\n",
      "Best Penalty: l2\n",
      "Best C: 0.14174741629268062\n"
     ]
    }
   ],
   "source": [
    "# Create hyperparamter space\n",
    "hyperparameters = dict(C = np.logspace(-4, 0, num=100), penalty = ['l1','l2'])\n",
    "\n",
    "# Create grid search using 5-fold cross validation\n",
    "lr = LogisticRegression(solver='saga',multi_class='auto',class_weight='balanced',max_iter=1000)\n",
    "lr_clf = GridSearchCV(lr, hyperparameters, cv=5, verbose=1, n_jobs=-1)\n",
    "best_lr_model_bow = lr_clf.fit(X_train_bow, y_train)\n",
    "\n",
    "# View best hyperparameters\n",
    "print('Best Solver:', best_lr_model_bow.best_estimator_.get_params()['solver'])\n",
    "print('Best Penalty:', best_lr_model_bow.best_estimator_.get_params()['penalty'])\n",
    "print('Best C:', best_lr_model_bow.best_estimator_.get_params()['C'])"
   ]
  },
  {
   "cell_type": "markdown",
   "metadata": {},
   "source": [
    "### Cross validation performance"
   ]
  },
  {
   "cell_type": "code",
   "execution_count": 7,
   "metadata": {},
   "outputs": [
    {
     "data": {
      "text/plain": [
       "split0_test_score    0.863248\n",
       "split1_test_score    0.810345\n",
       "split2_test_score    0.791304\n",
       "split3_test_score    0.834783\n",
       "split4_test_score    0.869565\n",
       "mean_test_score       0.83391\n",
       "Name: 157, dtype: object"
      ]
     },
     "metadata": {},
     "output_type": "display_data"
    }
   ],
   "source": [
    "best = lr_clf.best_index_\n",
    "df_cv_lr = pd.DataFrame(lr_clf.cv_results_).iloc[best,:]\n",
    "test_scores = [\"split0_test_score\", \"split1_test_score\", \"split2_test_score\",\n",
    "               \"split3_test_score\",\"split4_test_score\", \"mean_test_score\"]\n",
    "\n",
    "display(df_cv_lr[test_scores])"
   ]
  },
  {
   "cell_type": "code",
   "execution_count": 8,
   "metadata": {},
   "outputs": [
    {
     "name": "stdout",
     "output_type": "stream",
     "text": [
      "[0.85470085 0.81034483 0.79130435 0.83478261 0.86956522]\n"
     ]
    }
   ],
   "source": [
    "lr = LogisticRegression(solver='saga', multi_class='auto', class_weight='balanced', \n",
    "                        penalty='l2', C=0.135305, max_iter=1000)\n",
    "    \n",
    "all_accuracies = cross_val_score(estimator=lr, X=X_train_bow, y=y_train, cv=5)\n",
    "print(all_accuracies)"
   ]
  },
  {
   "cell_type": "code",
   "execution_count": 9,
   "metadata": {},
   "outputs": [
    {
     "name": "stdout",
     "output_type": "stream",
     "text": [
      "578 578\n"
     ]
    },
    {
     "data": {
      "image/png": "[encoded data removed]",
      "text/plain": [
       "<Figure size 432x288 with 2 Axes>"
      ]
     },
     "metadata": {
      "needs_background": "light"
     },
     "output_type": "display_data"
    }
   ],
   "source": [
    "all_cv_predictions = cross_val_predict(estimator=lr, X=X_train_bow, y=y_train, cv=5)\n",
    "print(len(all_cv_predictions), len(y_train))\n",
    "\n",
    "cnf_matrix = confusion_matrix(y_train, all_cv_predictions)\n",
    "plot_confusion_matrix(cnf_matrix, classes=['Hamilton','Jay','Madison'], normalize=False)\n",
    "plt.show()"
   ]
  },
  {
   "cell_type": "markdown",
   "metadata": {},
   "source": [
    "### Logistic Regression"
   ]
  },
  {
   "cell_type": "code",
   "execution_count": 10,
   "metadata": {},
   "outputs": [
    {
     "ename": "NameError",
     "evalue": "name 'df_test_block_predictions' is not defined",
     "output_type": "error",
     "traceback": [
      "\u001b[0;31m---------------------------------------------------------------------------\u001b[0m",
      "\u001b[0;31mNameError\u001b[0m                                 Traceback (most recent call last)",
      "\u001b[0;32m<ipython-input-10-3d80559afe73>\u001b[0m in \u001b[0;36m<module>\u001b[0;34m()\u001b[0m\n\u001b[1;32m     12\u001b[0m \u001b[0mtruths\u001b[0m \u001b[0;34m=\u001b[0m \u001b[0;34m[\u001b[0m\u001b[0;34m]\u001b[0m\u001b[0;34m\u001b[0m\u001b[0m\n\u001b[1;32m     13\u001b[0m \u001b[0mpredictions\u001b[0m \u001b[0;34m=\u001b[0m \u001b[0;34m[\u001b[0m\u001b[0;34m]\u001b[0m\u001b[0;34m\u001b[0m\u001b[0m\n\u001b[0;32m---> 14\u001b[0;31m \u001b[0;32mfor\u001b[0m \u001b[0mi\u001b[0m\u001b[0;34m,\u001b[0m \u001b[0mgroup_df\u001b[0m \u001b[0;32min\u001b[0m \u001b[0mdf_test_block_predictions\u001b[0m\u001b[0;34m.\u001b[0m\u001b[0mgroupby\u001b[0m\u001b[0;34m(\u001b[0m\u001b[0;34m'No.'\u001b[0m\u001b[0;34m)\u001b[0m\u001b[0;34m:\u001b[0m\u001b[0;34m\u001b[0m\u001b[0m\n\u001b[0m\u001b[1;32m     15\u001b[0m     \u001b[0mtrue_author_counter\u001b[0m \u001b[0;34m=\u001b[0m \u001b[0mCounter\u001b[0m\u001b[0;34m(\u001b[0m\u001b[0mgroup_df\u001b[0m\u001b[0;34m[\u001b[0m\u001b[0;34m'Author'\u001b[0m\u001b[0;34m]\u001b[0m\u001b[0;34m)\u001b[0m\u001b[0;34m\u001b[0m\u001b[0m\n\u001b[1;32m     16\u001b[0m     \u001b[0mpred_author_counter\u001b[0m \u001b[0;34m=\u001b[0m \u001b[0mCounter\u001b[0m\u001b[0;34m(\u001b[0m\u001b[0mgroup_df\u001b[0m\u001b[0;34m[\u001b[0m\u001b[0;34m'Prediction'\u001b[0m\u001b[0;34m]\u001b[0m\u001b[0;34m)\u001b[0m\u001b[0;34m\u001b[0m\u001b[0m\n",
      "\u001b[0;31mNameError\u001b[0m: name 'df_test_block_predictions' is not defined"
     ]
    }
   ],
   "source": [
    "def predict_and_evaluate_blocks(model, X_test, y_test):\n",
    "    y_test_predict = model.predict(X_test)\n",
    "    print(classification_report(y_test, y_test_predict, digits=3))\n",
    "    cnf_matrix = confusion_matrix(y_test, y_test_predict)\n",
    "    plot_confusion_matrix(cnf_matrix, classes=['Hamilton','Jay','Madison'], normalize=False)\n",
    "    plt.show()\n",
    "    \n",
    "def evaluate_documents(model, X_test, y_test):\n",
    "    df_test_block_predictions = df_test_block_clean.copy()\n",
    "    df_test_block_predictions.insert(3, 'Prediction', y_test_predict_lr)\n",
    "\n",
    "truths = []\n",
    "predictions = []\n",
    "for i, group_df in df_test_block_predictions.groupby('No.'):\n",
    "    true_author_counter = Counter(group_df['Author'])\n",
    "    pred_author_counter = Counter(group_df['Prediction'])\n",
    "    true_author = true_author_counter.most_common()[0][0]\n",
    "    pred_author = pred_author_counter.most_common()[0][0]\n",
    "    truths.append(true_author)\n",
    "    predictions.append(pred_author)\n",
    "\n",
    "# model fitting\n",
    "lr = LogisticRegression(solver='saga', multi_class='auto', class_weight='balanced', \n",
    "                        penalty='l2', C=0.135, max_iter=1000)\n",
    "\n",
    "lr.fit(X_train_bow, y_train)\n",
    "\n",
    "predict_and_evaluate_blocks(lr, X_test_bow, y_test)"
   ]
  },
  {
   "cell_type": "markdown",
   "metadata": {},
   "source": [
    "### Document-level predictions"
   ]
  },
  {
   "cell_type": "code",
   "execution_count": null,
   "metadata": {},
   "outputs": [],
   "source": [
    "df_test_block_predictions = df_test_block_clean.copy()\n",
    "df_test_block_predictions.insert(3, 'Prediction', y_test_predict_lr)\n",
    "\n",
    "truths = []\n",
    "predictions = []\n",
    "for i, group_df in df_test_block_predictions.groupby('No.'):\n",
    "    true_author_counter = Counter(group_df['Author'])\n",
    "    pred_author_counter = Counter(group_df['Prediction'])\n",
    "    true_author = true_author_counter.most_common()[0][0]\n",
    "    pred_author = pred_author_counter.most_common()[0][0]\n",
    "    truths.append(true_author)\n",
    "    predictions.append(pred_author)\n",
    "\n",
    "# evaluation\n",
    "print(classification_report(truths, predictions, digits=3))\n",
    "    \n",
    "# confusion matrix plot\n",
    "cnf_matrix = confusion_matrix(truths, predictions)\n",
    "plot_confusion_matrix(cnf_matrix, classes=['Hamilton','Jay','Madison'], normalize=False)\n",
    "plt.show()"
   ]
  }
 ],
 "metadata": {
  "kernelspec": {
   "display_name": "Python 3",
   "language": "python",
   "name": "python3"
  },
  "language_info": {
   "codemirror_mode": {
    "name": "ipython",
    "version": 3
   },
   "file_extension": ".py",
   "mimetype": "text/x-python",
   "name": "python",
   "nbconvert_exporter": "python",
   "pygments_lexer": "ipython3",
   "version": "3.6.6"
  }
 },
 "nbformat": 4,
 "nbformat_minor": 2
}
