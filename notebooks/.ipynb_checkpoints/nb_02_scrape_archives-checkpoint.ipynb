{
 "cells": [
  {
   "cell_type": "markdown",
   "metadata": {},
   "source": [
    "# Notebook 02 - Scrape Archives"
   ]
  },
  {
   "cell_type": "code",
   "execution_count": null,
   "metadata": {},
   "outputs": [],
   "source": [
    "%matplotlib inline\n",
    "\n",
    "import pandas as pd\n",
    "pd.set_option('chained_assignment',None)\n",
    "import numpy as np\n",
    "from collections import Counter\n",
    "import requests\n",
    "from bs4 import BeautifulSoup\n",
    "import matplotlib.pyplot as plt"
   ]
  },
  {
   "cell_type": "code",
   "execution_count": null,
   "metadata": {},
   "outputs": [],
   "source": [
    "df_ham_train_750 = df_ham_train_passages.sample(n=750, random_state=1).reset_index().drop(['index'], axis=1)\n",
    "df_mad_train_750 = df_mad_train_passages.sample(n=750, random_state=1).reset_index().drop(['index'], axis=1)\n",
    "df_ham_test_300 = df_ham_test_passages.sample(n=300, random_state=1).reset_index().drop(['index'], axis=1)\n",
    "df_mad_test_300 = df_mad_test_passages.sample(n=300, random_state=1).reset_index().drop(['index'], axis=1)\n",
    "\n",
    "df_train_balanced = pd.concat([df_ham_train_750, df_mad_train_750], axis=0)\n",
    "df_test_balanced = pd.concat([df_ham_test_300, df_mad_test_300], axis=0)\n",
    "\n",
    "print(Counter(df_train_balanced['author']))\n",
    "print(Counter(df_test_balanced['author']))\n",
    "\n",
    "df_train_balanced.to_csv('../data/train_balanced.csv', index=False)\n",
    "df_test_balanced.to_csv('../data/test_balanced.csv', index=False)"
   ]
  },
  {
   "cell_type": "code",
   "execution_count": null,
   "metadata": {},
   "outputs": [],
   "source": []
  },
  {
   "cell_type": "code",
   "execution_count": null,
   "metadata": {},
   "outputs": [],
   "source": []
  },
  {
   "cell_type": "code",
   "execution_count": null,
   "metadata": {},
   "outputs": [],
   "source": [
    "def extract_title(url):\n",
    "    \"\"\"parses the header and title information\"\"\"\n",
    "    page = requests.get(url)\n",
    "    soup = BeautifulSoup(page.content, 'html.parser')\n",
    "    title = soup.find_all(\"h1\", class_=\"title\")[0].getText()\n",
    "    return title\n",
    "\n",
    "# parses the text information\n",
    "def text_body_parser(url):\n",
    "    \"\"\"parses the text body information\"\"\"\n",
    "    page = requests.get(url)\n",
    "    soup = BeautifulSoup(page.content, 'html.parser')\n",
    "    # get opener and closer text\n",
    "    open_block = soup.find_all(\"div\", class_=\"opener\")\n",
    "    opener = open_block[0].getText()\n",
    "    close_block = soup.find_all(\"div\", class_=\"closer\")\n",
    "    closer = close_block[0].getText()\n",
    "    # get body text\n",
    "    text_block = soup.find_all(\"div\", class_=\"innerdiv docbody\")\n",
    "    text_body = text_block[0].getText()\n",
    "    # remove opener and closer from the body of text\n",
    "    text_body = text_body.replace(opener,'')\n",
    "    text_body = text_body.replace(closer,'').strip()\n",
    "    return(text_body)"
   ]
  },
  {
   "cell_type": "code",
   "execution_count": null,
   "metadata": {},
   "outputs": [],
   "source": [
    "gw_base_url = \"https://founders.archives.gov/?q=Author%3A%22Washington%2C%20George%22%20Dates-From%3A1764-01-01%20Dates-To%3A1787-09-30&s=1221311113&sa=&r=\"\n",
    "\n",
    "gw_urls = []\n",
    "for i in range(1,23542):\n",
    "    suffix_string = str(i) + \"&sr=\"\n",
    "    gw_entry_url = gw_base_url + suffix_string\n",
    "    gw_urls.append(gw_entry_url)\n",
    "    \n",
    "print(len(gw_urls))"
   ]
  },
  {
   "cell_type": "code",
   "execution_count": null,
   "metadata": {},
   "outputs": [],
   "source": [
    "gw_titles = []\n",
    "gw_keep_urls = []\n",
    "\n",
    "for gw_url in gw_urls:\n",
    "    title = extract_title(gw_url)\n",
    "    if \"George Washington\" in title:\n",
    "        gw_titles.append(title)\n",
    "        gw_keep_urls.append(gw_url)\n",
    "        \n",
    "print(len(gw_titles))\n",
    "print(len(gw_keep_urls))"
   ]
  }
 ],
 "metadata": {
  "kernelspec": {
   "display_name": "Python 3",
   "language": "python",
   "name": "python3"
  },
  "language_info": {
   "codemirror_mode": {
    "name": "ipython",
    "version": 3
   },
   "file_extension": ".py",
   "mimetype": "text/x-python",
   "name": "python",
   "nbconvert_exporter": "python",
   "pygments_lexer": "ipython3",
   "version": "3.6.6"
  }
 },
 "nbformat": 4,
 "nbformat_minor": 2
}
