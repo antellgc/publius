{
 "cells": [
  {
   "cell_type": "markdown",
   "metadata": {},
   "source": [
    "# Notebook 03 - Create Datasets"
   ]
  },
  {
   "cell_type": "markdown",
   "metadata": {},
   "source": [
    "### Import requirements"
   ]
  },
  {
   "cell_type": "code",
   "execution_count": 1,
   "metadata": {},
   "outputs": [],
   "source": [
    "from nltk import tokenize\n",
    "from collections import Counter\n",
    "import pandas as pd\n",
    "pd.set_option('chained_assignment',None)"
   ]
  },
  {
   "cell_type": "markdown",
   "metadata": {},
   "source": [
    "### Read in raw data"
   ]
  },
  {
   "cell_type": "code",
   "execution_count": 2,
   "metadata": {
    "scrolled": false
   },
   "outputs": [],
   "source": [
    "df_mad = pd.read_csv(\"../raw_data/Madison.csv\")\n",
    "df_ham = pd.read_csv(\"../raw_data/Hamilton.csv\")\n",
    "df_jay = pd.read_csv(\"../raw_data/Jay.csv\")"
   ]
  },
  {
   "cell_type": "markdown",
   "metadata": {},
   "source": [
    "### Helper functions"
   ]
  },
  {
   "cell_type": "code",
   "execution_count": 3,
   "metadata": {},
   "outputs": [],
   "source": [
    "def convert_to_text_blocks(dataframe, block_size):\n",
    "    \"\"\"\n",
    "    Splits documents into blocks of sentences and returns as a dataframe.\n",
    "    Parameters:\n",
    "        dataframe: a dataframe containing document-level text\n",
    "        block_size: the number of consecutive sentences per block\n",
    "    Returns:\n",
    "        dataframe_text_blocks: a new dataframe containing text at\n",
    "        the level of blocks of text rather than document-level\n",
    "    \"\"\"\n",
    "    # initialize output data dictionary\n",
    "    block_dict = {'No.':[], 'Author':[], 'Text Block':[]}\n",
    "    #iterate through all documents\n",
    "    for i in range(dataframe.shape[0]):\n",
    "        author = dataframe['Author'][i]\n",
    "        no = dataframe['No.'][i]\n",
    "        sentence_list = tokenize.sent_tokenize(dataframe['Text'][i])\n",
    "        sentence_count = len(sentence_list)\n",
    "        # iterate through sentences in each document and create blocks\n",
    "        for j in range(0, sentence_count, block_size):\n",
    "            idx1 = j\n",
    "            idx2 = j + block_size\n",
    "            if idx2 <= sentence_count:\n",
    "                doc_block_list = sentence_list[idx1:idx2]\n",
    "                doc_block = ' '.join(doc_block_list)\n",
    "                #collect information\n",
    "                block_dict['No.'].append(no)\n",
    "                block_dict['Author'].append(author)\n",
    "                block_dict['Text Block'].append(doc_block)\n",
    "    # create output dataframe\n",
    "    dataframe_text_blocks = pd.DataFrame(block_dict)\n",
    "    return dataframe_text_blocks"
   ]
  },
  {
   "cell_type": "markdown",
   "metadata": {},
   "source": [
    "### Train/Test split\n",
    "Many of the Federalist Papers are multi-part installments or continuations of earlier subjects. This could cause problems when it comes to train/test splitting because we want our classifier to identify authorship and not similar thematic content. Accordingly, selected the indices for splitting the datasets that ensure that continuations of the same subject were not assigned to both training and testing sets.\n",
    "\n",
    "This approach is only to be used for the first version of the model. Later approaches will use additional writing samples scraped from the National Archives in order ot make authorship predictions on the Federalist Papers."
   ]
  },
  {
   "cell_type": "markdown",
   "metadata": {},
   "source": [
    "### Split data at document level"
   ]
  },
  {
   "cell_type": "code",
   "execution_count": 4,
   "metadata": {
    "scrolled": false
   },
   "outputs": [
    {
     "name": "stdout",
     "output_type": "stream",
     "text": [
      "Training Set Documents: 55\n",
      "Testing Set Documents: 30\n"
     ]
    }
   ],
   "source": [
    "# assign first 20 papers from Madison to training\n",
    "df_mad_train = df_mad.iloc[:20,:].reset_index().drop(['index'], axis=1)\n",
    "df_mad_test = df_mad.iloc[20:,:].reset_index().drop(['index'], axis=1)\n",
    "\n",
    "# assign first 32 papers from Hamilton to training\n",
    "df_ham_train = df_ham.iloc[:32,:].reset_index().drop(['index'], axis=1)\n",
    "df_ham_test = df_ham.iloc[32:,:].reset_index().drop(['index'], axis=1)\n",
    "\n",
    "# assign first 3 papers from Jay to training\n",
    "df_jay_train = df_jay.iloc[:3,:].reset_index().drop(['index'], axis=1)\n",
    "df_jay_test = df_jay.iloc[3:,:].reset_index().drop(['index'], axis=1)\n",
    "\n",
    "# concatenate into training and testing datasets\n",
    "train_df_list = [df_mad_train, df_ham_train, df_jay_train]\n",
    "test_df_list = [df_mad_test, df_ham_test, df_jay_test]\n",
    "df_train_docs = pd.concat(train_df_list, axis=0).reset_index().drop(['index'], axis=1)\n",
    "df_test_docs = pd.concat(test_df_list, axis=0).reset_index().drop(['index'], axis=1)\n",
    "print(\"Training Set Documents:\", df_train_docs.shape[0])\n",
    "print(\"Testing Set Documents:\", df_test_docs.shape[0])"
   ]
  },
  {
   "cell_type": "markdown",
   "metadata": {},
   "source": [
    "### Convert to sentence blocks"
   ]
  },
  {
   "cell_type": "code",
   "execution_count": 5,
   "metadata": {},
   "outputs": [
    {
     "name": "stdout",
     "output_type": "stream",
     "text": [
      "(578, 3)\n",
      "Counter({'Hamilton': 302, 'Madison': 261, 'Jay': 15})\n"
     ]
    },
    {
     "data": {
      "text/html": [
       "<div>\n",
       "<style scoped>\n",
       "    .dataframe tbody tr th:only-of-type {\n",
       "        vertical-align: middle;\n",
       "    }\n",
       "\n",
       "    .dataframe tbody tr th {\n",
       "        vertical-align: top;\n",
       "    }\n",
       "\n",
       "    .dataframe thead th {\n",
       "        text-align: right;\n",
       "    }\n",
       "</style>\n",
       "<table border=\"1\" class=\"dataframe\">\n",
       "  <thead>\n",
       "    <tr style=\"text-align: right;\">\n",
       "      <th></th>\n",
       "      <th>No.</th>\n",
       "      <th>Author</th>\n",
       "      <th>Text Block</th>\n",
       "    </tr>\n",
       "  </thead>\n",
       "  <tbody>\n",
       "    <tr>\n",
       "      <th>0</th>\n",
       "      <td>10</td>\n",
       "      <td>Madison</td>\n",
       "      <td>AMONG the numerous advantages promised by a we...</td>\n",
       "    </tr>\n",
       "    <tr>\n",
       "      <th>1</th>\n",
       "      <td>10</td>\n",
       "      <td>Madison</td>\n",
       "      <td>Complaints are everywhere heard from our most ...</td>\n",
       "    </tr>\n",
       "    <tr>\n",
       "      <th>2</th>\n",
       "      <td>10</td>\n",
       "      <td>Madison</td>\n",
       "      <td>But it could not be less folly to abolish libe...</td>\n",
       "    </tr>\n",
       "    <tr>\n",
       "      <th>3</th>\n",
       "      <td>10</td>\n",
       "      <td>Madison</td>\n",
       "      <td>From the protection of different and unequal f...</td>\n",
       "    </tr>\n",
       "    <tr>\n",
       "      <th>4</th>\n",
       "      <td>10</td>\n",
       "      <td>Madison</td>\n",
       "      <td>Those who are creditors, and those who are deb...</td>\n",
       "    </tr>\n",
       "  </tbody>\n",
       "</table>\n",
       "</div>"
      ],
      "text/plain": [
       "   No.   Author                                         Text Block\n",
       "0   10  Madison  AMONG the numerous advantages promised by a we...\n",
       "1   10  Madison  Complaints are everywhere heard from our most ...\n",
       "2   10  Madison  But it could not be less folly to abolish libe...\n",
       "3   10  Madison  From the protection of different and unequal f...\n",
       "4   10  Madison  Those who are creditors, and those who are deb..."
      ]
     },
     "metadata": {},
     "output_type": "display_data"
    },
    {
     "name": "stdout",
     "output_type": "stream",
     "text": [
      "(336, 3)\n",
      "Counter({'Hamilton': 216, 'Madison': 107, 'Jay': 13})\n"
     ]
    },
    {
     "data": {
      "text/html": [
       "<div>\n",
       "<style scoped>\n",
       "    .dataframe tbody tr th:only-of-type {\n",
       "        vertical-align: middle;\n",
       "    }\n",
       "\n",
       "    .dataframe tbody tr th {\n",
       "        vertical-align: top;\n",
       "    }\n",
       "\n",
       "    .dataframe thead th {\n",
       "        text-align: right;\n",
       "    }\n",
       "</style>\n",
       "<table border=\"1\" class=\"dataframe\">\n",
       "  <thead>\n",
       "    <tr style=\"text-align: right;\">\n",
       "      <th></th>\n",
       "      <th>No.</th>\n",
       "      <th>Author</th>\n",
       "      <th>Text Block</th>\n",
       "    </tr>\n",
       "  </thead>\n",
       "  <tbody>\n",
       "    <tr>\n",
       "      <th>0</th>\n",
       "      <td>52</td>\n",
       "      <td>Madison</td>\n",
       "      <td>FROM the more general inquiries pursued in the...</td>\n",
       "    </tr>\n",
       "    <tr>\n",
       "      <th>1</th>\n",
       "      <td>52</td>\n",
       "      <td>Madison</td>\n",
       "      <td>To have left it open for the occasional regula...</td>\n",
       "    </tr>\n",
       "    <tr>\n",
       "      <th>2</th>\n",
       "      <td>52</td>\n",
       "      <td>Madison</td>\n",
       "      <td>The qualifications of the elected, being less ...</td>\n",
       "    </tr>\n",
       "    <tr>\n",
       "      <th>3</th>\n",
       "      <td>52</td>\n",
       "      <td>Madison</td>\n",
       "      <td>First. As it is essential to liberty that the ...</td>\n",
       "    </tr>\n",
       "    <tr>\n",
       "      <th>4</th>\n",
       "      <td>52</td>\n",
       "      <td>Madison</td>\n",
       "      <td>The scheme of representation, as a substitute ...</td>\n",
       "    </tr>\n",
       "  </tbody>\n",
       "</table>\n",
       "</div>"
      ],
      "text/plain": [
       "   No.   Author                                         Text Block\n",
       "0   52  Madison  FROM the more general inquiries pursued in the...\n",
       "1   52  Madison  To have left it open for the occasional regula...\n",
       "2   52  Madison  The qualifications of the elected, being less ...\n",
       "3   52  Madison  First. As it is essential to liberty that the ...\n",
       "4   52  Madison  The scheme of representation, as a substitute ..."
      ]
     },
     "metadata": {},
     "output_type": "display_data"
    }
   ],
   "source": [
    "df_train_blocks = convert_to_text_blocks(df_train_docs, 5)\n",
    "df_test_blocks = convert_to_text_blocks(df_test_docs, 5)\n",
    "\n",
    "# training data\n",
    "print(df_train_blocks.shape)\n",
    "print(Counter(df_train_blocks['Author']))\n",
    "display(df_train_blocks.head())\n",
    "\n",
    "# testing data\n",
    "print(df_test_blocks.shape)\n",
    "print(Counter(df_test_blocks['Author']))\n",
    "display(df_test_blocks.head())"
   ]
  },
  {
   "cell_type": "markdown",
   "metadata": {},
   "source": [
    "### Save dataframes to files"
   ]
  },
  {
   "cell_type": "code",
   "execution_count": 6,
   "metadata": {},
   "outputs": [],
   "source": [
    "df_train_blocks.to_csv(\"../processed_data/train_blocks.csv\", index=False)\n",
    "df_test_blocks.to_csv(\"../processed_data/test_blocks.csv\", index=False)"
   ]
  }
 ],
 "metadata": {
  "kernelspec": {
   "display_name": "Python 3",
   "language": "python",
   "name": "python3"
  },
  "language_info": {
   "codemirror_mode": {
    "name": "ipython",
    "version": 3
   },
   "file_extension": ".py",
   "mimetype": "text/x-python",
   "name": "python",
   "nbconvert_exporter": "python",
   "pygments_lexer": "ipython3",
   "version": "3.6.6"
  }
 },
 "nbformat": 4,
 "nbformat_minor": 2
}
