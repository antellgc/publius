{
 "cells": [
  {
   "cell_type": "markdown",
   "metadata": {},
   "source": [
    "# National Archives -- Founding Fathers"
   ]
  },
  {
   "cell_type": "markdown",
   "metadata": {},
   "source": [
    "### Import requirements"
   ]
  },
  {
   "cell_type": "code",
   "execution_count": 1,
   "metadata": {},
   "outputs": [],
   "source": [
    "%matplotlib inline\n",
    "import pandas as pd\n",
    "pd.set_option('chained_assignment',None)\n",
    "import numpy as np\n",
    "from collections import Counter\n",
    "import requests\n",
    "from bs4 import BeautifulSoup\n",
    "import matplotlib.pyplot as plt"
   ]
  },
  {
   "cell_type": "code",
   "execution_count": 2,
   "metadata": {},
   "outputs": [
    {
     "data": {
      "text/html": [
       "<style>\n",
       "  table {margin-left: 0 !important;}\n",
       "</style>"
      ],
      "text/plain": [
       "<IPython.core.display.HTML object>"
      ]
     },
     "metadata": {},
     "output_type": "display_data"
    }
   ],
   "source": [
    "%%html\n",
    "<style>\n",
    "  table {margin-left: 0 !important;}\n",
    "</style>"
   ]
  },
  {
   "cell_type": "markdown",
   "metadata": {},
   "source": [
    "### Search parameters"
   ]
  },
  {
   "cell_type": "markdown",
   "metadata": {},
   "source": [
    "Select dates\n",
    "- Start: January 1, 1764 (following the Seven Years War)\n",
    "- End: September 30, 1787 (one month prior to the first Federalist Paper)\n",
    "\n",
    "|Author|Search Results|Filtered Results|\n",
    "|:---|:---|:---|\n",
    "|Alexander Hamilton|\n",
    "|Thomas Jefferson|\n",
    "|George Washington|23,541| \n",
    "|John Adams|\n",
    "|Benjamin Franklin|\n",
    "|James Madison|\n",
    "|John Jay|"
   ]
  },
  {
   "cell_type": "code",
   "execution_count": null,
   "metadata": {},
   "outputs": [],
   "source": []
  },
  {
   "cell_type": "markdown",
   "metadata": {},
   "source": [
    "### Scrape with Beautiful Soup"
   ]
  },
  {
   "cell_type": "code",
   "execution_count": 76,
   "metadata": {},
   "outputs": [
    {
     "data": {
      "text/plain": [
       "'I have this moment been favoured with your letter without date from Prince George County, and have ordered the Jennies to be delivered to Mr Dove—hoping both will prove with foal. Royal Gift never fails—the other is a young hand, but I hope will be equally sure.1\\nI am glad to hear that the Jenny you sent to R. G. last year has produced a Jack2—and that you have been so successful in your importation of Deer. My Country Does have brought Fawns, &\\n\\nI have a buck and doe of those given me by Mr Ogle; yet if you shd be successful, I would thank you for a pair (male or female) of yours.3\\nMy best respects, if you please to Mrs Sprigg, and thanks for your kind congratulations on my safe return home, after a long absence from it. I am Dear Sir Yr Most Obedt Servt'"
      ]
     },
     "execution_count": 76,
     "metadata": {},
     "output_type": "execute_result"
    }
   ],
   "source": [
    "def extract_title(url):\n",
    "    \"\"\"parses the header and title information\"\"\"\n",
    "    page = requests.get(url)\n",
    "    soup = BeautifulSoup(page.content, 'html.parser')\n",
    "    title = soup.find_all(\"h1\", class_=\"title\")[0].getText()\n",
    "    return title\n",
    "\n",
    "# parses the text information\n",
    "def text_body_parser(url):\n",
    "    \"\"\"parses the text body information\"\"\"\n",
    "    page = requests.get(url)\n",
    "    soup = BeautifulSoup(page.content, 'html.parser')\n",
    "    # get opener and closer text\n",
    "    open_block = soup.find_all(\"div\", class_=\"opener\")\n",
    "    opener = open_block[0].getText()\n",
    "    close_block = soup.find_all(\"div\", class_=\"closer\")\n",
    "    closer = close_block[0].getText()\n",
    "    # get body text\n",
    "    text_block = soup.find_all(\"div\", class_=\"innerdiv docbody\")\n",
    "    text_body = text_block[0].getText()\n",
    "    # remove opener and closer from the body of text\n",
    "    text_body = text_body.replace(opener,'')\n",
    "    text_body = text_body.replace(closer,'').strip()\n",
    "    return(text_body)"
   ]
  },
  {
   "cell_type": "code",
   "execution_count": 82,
   "metadata": {},
   "outputs": [
    {
     "name": "stdout",
     "output_type": "stream",
     "text": [
      "23541\n"
     ]
    }
   ],
   "source": [
    "gw_base_url = \"https://founders.archives.gov/?q=Author%3A%22Washington%2C%20George%22%20Dates-From%3A1764-01-01%20Dates-To%3A1787-09-30&s=1221311113&sa=&r=\"\n",
    "\n",
    "gw_urls = []\n",
    "for i in range(1,23542):\n",
    "    suffix_string = str(i) + \"&sr=\"\n",
    "    gw_entry_url = gw_base_url + suffix_string\n",
    "    gw_urls.append(gw_entry_url)\n",
    "    \n",
    "print(len(gw_urls))"
   ]
  },
  {
   "cell_type": "code",
   "execution_count": 97,
   "metadata": {},
   "outputs": [
    {
     "name": "stdout",
     "output_type": "stream",
     "text": [
      "328\n",
      "328\n"
     ]
    }
   ],
   "source": [
    "gw_titles = []\n",
    "gw_keep_urls = []\n",
    "\n",
    "for gw_url in gw_urls:\n",
    "    title = extract_title(gw_url)\n",
    "    if \"George Washington\" in title:\n",
    "        gw_titles.append(title)\n",
    "        gw_keep_urls.append(gw_url)\n",
    "        \n",
    "print(len(gw_titles))\n",
    "print(len(gw_keep_urls))"
   ]
  }
 ],
 "metadata": {
  "kernelspec": {
   "display_name": "Python 3",
   "language": "python",
   "name": "python3"
  },
  "language_info": {
   "codemirror_mode": {
    "name": "ipython",
    "version": 3
   },
   "file_extension": ".py",
   "mimetype": "text/x-python",
   "name": "python",
   "nbconvert_exporter": "python",
   "pygments_lexer": "ipython3",
   "version": "3.6.7"
  }
 },
 "nbformat": 4,
 "nbformat_minor": 2
}
